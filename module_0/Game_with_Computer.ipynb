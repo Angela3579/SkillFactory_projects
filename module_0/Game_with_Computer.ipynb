{
 "cells": [
  {
   "cell_type": "code",
   "execution_count": 5,
   "metadata": {},
   "outputs": [
    {
     "name": "stdout",
     "output_type": "stream",
     "text": [
      "Загадано число от 1 до 100\n",
      "Вы угадали число \"29\" с 6 раза.\n"
     ]
    }
   ],
   "source": [
    "# Программа для отгадывания случайно выбранного числа в диапазоне от 1 до 100 за минимальное число попыток\n",
    "\n",
    "import numpy as np\n",
    "count = 0                            # счётчик попыток\n",
    "min, max = 1,100                     # пограничные значения заданного диапазона\n",
    "number = np.random.randint(1,101)    # загадано число\n",
    "print(\"Загадано число от 1 до 100\")\n",
    "\n",
    "while True:                          # бесконечный цикл\n",
    "    count += 1                       # увеличиваем счётчик\n",
    "    mid = (max + min)//2             # нахождение середины диапазона\n",
    "    if number > mid:                \n",
    "        min = mid + 1                # новое значение min\n",
    "    elif number < mid:\n",
    "        max = mid - 1                # новое значение max\n",
    "    else:\n",
    "        if number == mid:\n",
    "            break  \n",
    "\n",
    "print (f'Вы угадали число \"{number}\" с {count} раза.')"
   ]
  },
  {
   "cell_type": "code",
   "execution_count": null,
   "metadata": {},
   "outputs": [],
   "source": []
  }
 ],
 "metadata": {
  "kernelspec": {
   "display_name": "Python 3",
   "language": "python",
   "name": "python3"
  },
  "language_info": {
   "codemirror_mode": {
    "name": "ipython",
    "version": 3
   },
   "file_extension": ".py",
   "mimetype": "text/x-python",
   "name": "python",
   "nbconvert_exporter": "python",
   "pygments_lexer": "ipython3",
   "version": "3.8.3"
  }
 },
 "nbformat": 4,
 "nbformat_minor": 4
}
