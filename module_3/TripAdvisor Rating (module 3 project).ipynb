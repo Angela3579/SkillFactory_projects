{
 "cells": [
  {
   "cell_type": "markdown",
   "metadata": {},
   "source": [
    "# Введение в машинное обучение\n",
    "## Описание задачи\n",
    "В этом модуле предстоит работать с датасетом, содержащим сведения о 40 000 ресторанах Европы,  и обучать модель, которая будет предсказывать рейтинг ресторана по данным сайта TripAdvisor на основе имеющихся в датасете данных.\n",
    "\n",
    "### Описание датасета по условиям задачи\n",
    "\n",
    "Переменные, которые содержит датасет:\n",
    "1. Restaurant_id — идентификационный номер ресторана / сети ресторанов;\n",
    "2. City — город, в котором находится ресторан;\n",
    "3. Cuisine Style — кухня или кухни, к которым можно отнести блюда, предлагаемые в ресторане;\n",
    "4. Ranking — место, которое занимает данный ресторан среди всех ресторанов своего города;\n",
    "5. Rating — рейтинг ресторана по данным TripAdvisor (именно это значение должна будет предсказывать модель);\n",
    "6. Price Range — диапазон цен в ресторане;\n",
    "7. Number of Reviews — количество отзывов о ресторане;\n",
    "8. Reviews — данные о двух отзывах, которые отображаются на сайте ресторана;\n",
    "9. URL_TA — URL страницы ресторана на TripAdvisor;\n",
    "10. ID_TA — идентификатор ресторана в базе данных TripAdvisor."
   ]
  },
  {
   "cell_type": "markdown",
   "metadata": {},
   "source": [
    "## Загрузка необходимых библиотек и функций"
   ]
  },
  {
   "cell_type": "code",
   "execution_count": 124,
   "metadata": {},
   "outputs": [],
   "source": [
    "import pandas as pd\n",
    "import numpy as np\n",
    "import collections\n",
    "import matplotlib.pyplot as plt\n",
    "import seaborn as sns \n",
    "from datetime import datetime\n",
    "%matplotlib inline\n",
    "\n",
    "# Загружаем специальный удобный инструмент для разделения датасета:\n",
    "from sklearn.model_selection import train_test_split\n",
    "\n",
    "from sklearn.ensemble import RandomForestRegressor # инструмент для создания и обучения модели\n",
    "from sklearn import metrics # инструменты для оценки точности модели\n",
    "\n",
    "import warnings; warnings.simplefilter('ignore')"
   ]
  },
  {
   "cell_type": "code",
   "execution_count": 125,
   "metadata": {},
   "outputs": [],
   "source": [
    "# Фиксируем RANDOM SEED\n",
    "RANDOM_SEED = 42\n",
    "\n",
    "# Фиксируем версию пакетов, чтобы эксперименты были воспроизводимы\n",
    "!pip freeze > requirements.txt"
   ]
  },
  {
   "cell_type": "code",
   "execution_count": 126,
   "metadata": {},
   "outputs": [],
   "source": [
    "# Функция для определения границ выбросов.\n",
    "\n",
    "def find_IQR(column):\n",
    "    perc_25 = data[column].quantile(0.25, interpolation=\"midpoint\")\n",
    "    perc_75 = data[column].quantile(0.75, interpolation=\"midpoint\")\n",
    "    IQR = perc_75 - perc_25\n",
    "    print('Q1: {}'.format(perc_25), 'Q3: {}'.format(perc_75), 'IQR: {}'.format(IQR),\n",
    "          'Граница выбросов: [{a},{b}]'.format(a=perc_25 - 1.5*IQR, b=perc_75 + 1.5*IQR), sep='\\n')"
   ]
  },
  {
   "cell_type": "markdown",
   "metadata": {},
   "source": [
    "## DATA"
   ]
  },
  {
   "cell_type": "code",
   "execution_count": 127,
   "metadata": {},
   "outputs": [],
   "source": [
    "df_train = pd.read_csv('main_task.csv')\n",
    "df_test = pd.read_csv('kaggle_task.csv')\n",
    "sample_submission = pd.read_csv('sample_submission.csv')"
   ]
  },
  {
   "cell_type": "code",
   "execution_count": 128,
   "metadata": {},
   "outputs": [
    {
     "name": "stdout",
     "output_type": "stream",
     "text": [
      "<class 'pandas.core.frame.DataFrame'>\n",
      "RangeIndex: 40000 entries, 0 to 39999\n",
      "Data columns (total 10 columns):\n",
      " #   Column             Non-Null Count  Dtype  \n",
      "---  ------             --------------  -----  \n",
      " 0   Restaurant_id      40000 non-null  object \n",
      " 1   City               40000 non-null  object \n",
      " 2   Cuisine Style      30717 non-null  object \n",
      " 3   Ranking            40000 non-null  float64\n",
      " 4   Rating             40000 non-null  float64\n",
      " 5   Price Range        26114 non-null  object \n",
      " 6   Number of Reviews  37457 non-null  float64\n",
      " 7   Reviews            40000 non-null  object \n",
      " 8   URL_TA             40000 non-null  object \n",
      " 9   ID_TA              40000 non-null  object \n",
      "dtypes: float64(3), object(7)\n",
      "memory usage: 3.1+ MB\n"
     ]
    }
   ],
   "source": [
    "df_train.info()"
   ]
  },
  {
   "cell_type": "code",
   "execution_count": 129,
   "metadata": {},
   "outputs": [
    {
     "data": {
      "text/html": [
       "<div>\n",
       "<style scoped>\n",
       "    .dataframe tbody tr th:only-of-type {\n",
       "        vertical-align: middle;\n",
       "    }\n",
       "\n",
       "    .dataframe tbody tr th {\n",
       "        vertical-align: top;\n",
       "    }\n",
       "\n",
       "    .dataframe thead th {\n",
       "        text-align: right;\n",
       "    }\n",
       "</style>\n",
       "<table border=\"1\" class=\"dataframe\">\n",
       "  <thead>\n",
       "    <tr style=\"text-align: right;\">\n",
       "      <th></th>\n",
       "      <th>Restaurant_id</th>\n",
       "      <th>City</th>\n",
       "      <th>Cuisine Style</th>\n",
       "      <th>Ranking</th>\n",
       "      <th>Rating</th>\n",
       "      <th>Price Range</th>\n",
       "      <th>Number of Reviews</th>\n",
       "      <th>Reviews</th>\n",
       "      <th>URL_TA</th>\n",
       "      <th>ID_TA</th>\n",
       "    </tr>\n",
       "  </thead>\n",
       "  <tbody>\n",
       "    <tr>\n",
       "      <th>18019</th>\n",
       "      <td>id_631</td>\n",
       "      <td>Prague</td>\n",
       "      <td>['Canadian', 'Fast Food', 'Diner', 'Vegetarian...</td>\n",
       "      <td>632.0</td>\n",
       "      <td>4.5</td>\n",
       "      <td>$</td>\n",
       "      <td>56.0</td>\n",
       "      <td>[['Only Poutine in Prague', 'Tre bien'], ['08/...</td>\n",
       "      <td>/Restaurant_Review-g274707-d8442813-Reviews-Ga...</td>\n",
       "      <td>d8442813</td>\n",
       "    </tr>\n",
       "    <tr>\n",
       "      <th>27217</th>\n",
       "      <td>id_2891</td>\n",
       "      <td>Vienna</td>\n",
       "      <td>['Italian', 'Austrian', 'Pizza', 'European', '...</td>\n",
       "      <td>2893.0</td>\n",
       "      <td>3.5</td>\n",
       "      <td>$$ - $$$</td>\n",
       "      <td>9.0</td>\n",
       "      <td>[['nothing really to rave about', 'Outsize por...</td>\n",
       "      <td>/Restaurant_Review-g190454-d11876446-Reviews-P...</td>\n",
       "      <td>d11876446</td>\n",
       "    </tr>\n",
       "    <tr>\n",
       "      <th>27950</th>\n",
       "      <td>id_1884</td>\n",
       "      <td>Milan</td>\n",
       "      <td>['Seafood', 'Vegetarian Friendly', 'Vegan Opti...</td>\n",
       "      <td>1886.0</td>\n",
       "      <td>4.0</td>\n",
       "      <td>$$ - $$$</td>\n",
       "      <td>79.0</td>\n",
       "      <td>[[], []]</td>\n",
       "      <td>/Restaurant_Review-g187849-d11045534-Reviews-C...</td>\n",
       "      <td>d11045534</td>\n",
       "    </tr>\n",
       "    <tr>\n",
       "      <th>31395</th>\n",
       "      <td>id_1923</td>\n",
       "      <td>London</td>\n",
       "      <td>['British', 'Vegetarian Friendly']</td>\n",
       "      <td>1927.0</td>\n",
       "      <td>4.5</td>\n",
       "      <td>$$ - $$$</td>\n",
       "      <td>200.0</td>\n",
       "      <td>[['Fantastic night.', 'THE way to see London a...</td>\n",
       "      <td>/Restaurant_Review-g186338-d1422087-Reviews-Lo...</td>\n",
       "      <td>d1422087</td>\n",
       "    </tr>\n",
       "    <tr>\n",
       "      <th>16360</th>\n",
       "      <td>id_9561</td>\n",
       "      <td>Paris</td>\n",
       "      <td>NaN</td>\n",
       "      <td>9563.0</td>\n",
       "      <td>4.0</td>\n",
       "      <td>NaN</td>\n",
       "      <td>14.0</td>\n",
       "      <td>[['Don not order the Pad Thai!'], ['08/17/2015']]</td>\n",
       "      <td>/Restaurant_Review-g187147-d7622694-Reviews-Ku...</td>\n",
       "      <td>d7622694</td>\n",
       "    </tr>\n",
       "  </tbody>\n",
       "</table>\n",
       "</div>"
      ],
      "text/plain": [
       "      Restaurant_id    City  \\\n",
       "18019        id_631  Prague   \n",
       "27217       id_2891  Vienna   \n",
       "27950       id_1884   Milan   \n",
       "31395       id_1923  London   \n",
       "16360       id_9561   Paris   \n",
       "\n",
       "                                           Cuisine Style  Ranking  Rating  \\\n",
       "18019  ['Canadian', 'Fast Food', 'Diner', 'Vegetarian...    632.0     4.5   \n",
       "27217  ['Italian', 'Austrian', 'Pizza', 'European', '...   2893.0     3.5   \n",
       "27950  ['Seafood', 'Vegetarian Friendly', 'Vegan Opti...   1886.0     4.0   \n",
       "31395                 ['British', 'Vegetarian Friendly']   1927.0     4.5   \n",
       "16360                                                NaN   9563.0     4.0   \n",
       "\n",
       "      Price Range  Number of Reviews  \\\n",
       "18019           $               56.0   \n",
       "27217    $$ - $$$                9.0   \n",
       "27950    $$ - $$$               79.0   \n",
       "31395    $$ - $$$              200.0   \n",
       "16360         NaN               14.0   \n",
       "\n",
       "                                                 Reviews  \\\n",
       "18019  [['Only Poutine in Prague', 'Tre bien'], ['08/...   \n",
       "27217  [['nothing really to rave about', 'Outsize por...   \n",
       "27950                                           [[], []]   \n",
       "31395  [['Fantastic night.', 'THE way to see London a...   \n",
       "16360  [['Don not order the Pad Thai!'], ['08/17/2015']]   \n",
       "\n",
       "                                                  URL_TA      ID_TA  \n",
       "18019  /Restaurant_Review-g274707-d8442813-Reviews-Ga...   d8442813  \n",
       "27217  /Restaurant_Review-g190454-d11876446-Reviews-P...  d11876446  \n",
       "27950  /Restaurant_Review-g187849-d11045534-Reviews-C...  d11045534  \n",
       "31395  /Restaurant_Review-g186338-d1422087-Reviews-Lo...   d1422087  \n",
       "16360  /Restaurant_Review-g187147-d7622694-Reviews-Ku...   d7622694  "
      ]
     },
     "execution_count": 129,
     "metadata": {},
     "output_type": "execute_result"
    }
   ],
   "source": [
    "# Посмотрим на случайную выборку из 5 элементов\n",
    "df_train.sample(5)"
   ]
  },
  {
   "cell_type": "code",
   "execution_count": 130,
   "metadata": {},
   "outputs": [
    {
     "name": "stdout",
     "output_type": "stream",
     "text": [
      "<class 'pandas.core.frame.DataFrame'>\n",
      "RangeIndex: 10000 entries, 0 to 9999\n",
      "Data columns (total 9 columns):\n",
      " #   Column             Non-Null Count  Dtype  \n",
      "---  ------             --------------  -----  \n",
      " 0   Restaurant_id      10000 non-null  object \n",
      " 1   City               10000 non-null  object \n",
      " 2   Cuisine Style      7693 non-null   object \n",
      " 3   Ranking            10000 non-null  float64\n",
      " 4   Price Range        6525 non-null   object \n",
      " 5   Number of Reviews  9343 non-null   float64\n",
      " 6   Reviews            9998 non-null   object \n",
      " 7   URL_TA             10000 non-null  object \n",
      " 8   ID_TA              10000 non-null  object \n",
      "dtypes: float64(2), object(7)\n",
      "memory usage: 703.2+ KB\n"
     ]
    }
   ],
   "source": [
    "df_test.info()"
   ]
  },
  {
   "cell_type": "code",
   "execution_count": 131,
   "metadata": {},
   "outputs": [
    {
     "data": {
      "text/html": [
       "<div>\n",
       "<style scoped>\n",
       "    .dataframe tbody tr th:only-of-type {\n",
       "        vertical-align: middle;\n",
       "    }\n",
       "\n",
       "    .dataframe tbody tr th {\n",
       "        vertical-align: top;\n",
       "    }\n",
       "\n",
       "    .dataframe thead th {\n",
       "        text-align: right;\n",
       "    }\n",
       "</style>\n",
       "<table border=\"1\" class=\"dataframe\">\n",
       "  <thead>\n",
       "    <tr style=\"text-align: right;\">\n",
       "      <th></th>\n",
       "      <th>Restaurant_id</th>\n",
       "      <th>City</th>\n",
       "      <th>Cuisine Style</th>\n",
       "      <th>Ranking</th>\n",
       "      <th>Price Range</th>\n",
       "      <th>Number of Reviews</th>\n",
       "      <th>Reviews</th>\n",
       "      <th>URL_TA</th>\n",
       "      <th>ID_TA</th>\n",
       "    </tr>\n",
       "  </thead>\n",
       "  <tbody>\n",
       "    <tr>\n",
       "      <th>731</th>\n",
       "      <td>id_731</td>\n",
       "      <td>Berlin</td>\n",
       "      <td>['German', 'Fast Food', 'Vegetarian Friendly']</td>\n",
       "      <td>1484.0</td>\n",
       "      <td>$</td>\n",
       "      <td>56.0</td>\n",
       "      <td>[['Why not?', 'quick service, good food'], ['0...</td>\n",
       "      <td>/Restaurant_Review-g187323-d7629581-Reviews-Ch...</td>\n",
       "      <td>d7629581</td>\n",
       "    </tr>\n",
       "    <tr>\n",
       "      <th>8822</th>\n",
       "      <td>id_8822</td>\n",
       "      <td>London</td>\n",
       "      <td>['British']</td>\n",
       "      <td>8190.0</td>\n",
       "      <td>$$ - $$$</td>\n",
       "      <td>2.0</td>\n",
       "      <td>[['A fantastic Thanksgiving Dinner', 'Wonderfu...</td>\n",
       "      <td>/Restaurant_Review-g186338-d12697053-Reviews-C...</td>\n",
       "      <td>d12697053</td>\n",
       "    </tr>\n",
       "    <tr>\n",
       "      <th>8941</th>\n",
       "      <td>id_8941</td>\n",
       "      <td>Copenhagen</td>\n",
       "      <td>NaN</td>\n",
       "      <td>1106.0</td>\n",
       "      <td>NaN</td>\n",
       "      <td>NaN</td>\n",
       "      <td>[['GO!'], ['02/15/2014']]</td>\n",
       "      <td>/Restaurant_Review-g189541-d4697027-Reviews-Mi...</td>\n",
       "      <td>d4697027</td>\n",
       "    </tr>\n",
       "    <tr>\n",
       "      <th>7098</th>\n",
       "      <td>id_7098</td>\n",
       "      <td>Lyon</td>\n",
       "      <td>['French', 'Brazilian', 'International', 'Heal...</td>\n",
       "      <td>1264.0</td>\n",
       "      <td>$$ - $$$</td>\n",
       "      <td>22.0</td>\n",
       "      <td>[['Amazing Brazilian restaurant', 'Amazing Foo...</td>\n",
       "      <td>/Restaurant_Review-g187265-d8784419-Reviews-Un...</td>\n",
       "      <td>d8784419</td>\n",
       "    </tr>\n",
       "    <tr>\n",
       "      <th>3069</th>\n",
       "      <td>id_3069</td>\n",
       "      <td>Hamburg</td>\n",
       "      <td>NaN</td>\n",
       "      <td>1275.0</td>\n",
       "      <td>NaN</td>\n",
       "      <td>NaN</td>\n",
       "      <td>[[], []]</td>\n",
       "      <td>/Restaurant_Review-g187331-d2006091-Reviews-Ma...</td>\n",
       "      <td>d2006091</td>\n",
       "    </tr>\n",
       "  </tbody>\n",
       "</table>\n",
       "</div>"
      ],
      "text/plain": [
       "     Restaurant_id        City  \\\n",
       "731         id_731      Berlin   \n",
       "8822       id_8822      London   \n",
       "8941       id_8941  Copenhagen   \n",
       "7098       id_7098        Lyon   \n",
       "3069       id_3069     Hamburg   \n",
       "\n",
       "                                          Cuisine Style  Ranking Price Range  \\\n",
       "731      ['German', 'Fast Food', 'Vegetarian Friendly']   1484.0           $   \n",
       "8822                                        ['British']   8190.0    $$ - $$$   \n",
       "8941                                                NaN   1106.0         NaN   \n",
       "7098  ['French', 'Brazilian', 'International', 'Heal...   1264.0    $$ - $$$   \n",
       "3069                                                NaN   1275.0         NaN   \n",
       "\n",
       "      Number of Reviews                                            Reviews  \\\n",
       "731                56.0  [['Why not?', 'quick service, good food'], ['0...   \n",
       "8822                2.0  [['A fantastic Thanksgiving Dinner', 'Wonderfu...   \n",
       "8941                NaN                          [['GO!'], ['02/15/2014']]   \n",
       "7098               22.0  [['Amazing Brazilian restaurant', 'Amazing Foo...   \n",
       "3069                NaN                                           [[], []]   \n",
       "\n",
       "                                                 URL_TA      ID_TA  \n",
       "731   /Restaurant_Review-g187323-d7629581-Reviews-Ch...   d7629581  \n",
       "8822  /Restaurant_Review-g186338-d12697053-Reviews-C...  d12697053  \n",
       "8941  /Restaurant_Review-g189541-d4697027-Reviews-Mi...   d4697027  \n",
       "7098  /Restaurant_Review-g187265-d8784419-Reviews-Un...   d8784419  \n",
       "3069  /Restaurant_Review-g187331-d2006091-Reviews-Ma...   d2006091  "
      ]
     },
     "execution_count": 131,
     "metadata": {},
     "output_type": "execute_result"
    }
   ],
   "source": [
    "df_test.sample(5)"
   ]
  },
  {
   "cell_type": "code",
   "execution_count": 132,
   "metadata": {},
   "outputs": [
    {
     "name": "stdout",
     "output_type": "stream",
     "text": [
      "<class 'pandas.core.frame.DataFrame'>\n",
      "RangeIndex: 10000 entries, 0 to 9999\n",
      "Data columns (total 2 columns):\n",
      " #   Column         Non-Null Count  Dtype  \n",
      "---  ------         --------------  -----  \n",
      " 0   Restaurant_id  10000 non-null  object \n",
      " 1   Rating         10000 non-null  float64\n",
      "dtypes: float64(1), object(1)\n",
      "memory usage: 156.4+ KB\n"
     ]
    }
   ],
   "source": [
    "sample_submission.info()"
   ]
  },
  {
   "cell_type": "code",
   "execution_count": 133,
   "metadata": {},
   "outputs": [
    {
     "data": {
      "text/html": [
       "<div>\n",
       "<style scoped>\n",
       "    .dataframe tbody tr th:only-of-type {\n",
       "        vertical-align: middle;\n",
       "    }\n",
       "\n",
       "    .dataframe tbody tr th {\n",
       "        vertical-align: top;\n",
       "    }\n",
       "\n",
       "    .dataframe thead th {\n",
       "        text-align: right;\n",
       "    }\n",
       "</style>\n",
       "<table border=\"1\" class=\"dataframe\">\n",
       "  <thead>\n",
       "    <tr style=\"text-align: right;\">\n",
       "      <th></th>\n",
       "      <th>Restaurant_id</th>\n",
       "      <th>Rating</th>\n",
       "    </tr>\n",
       "  </thead>\n",
       "  <tbody>\n",
       "    <tr>\n",
       "      <th>0</th>\n",
       "      <td>id_0</td>\n",
       "      <td>2.0</td>\n",
       "    </tr>\n",
       "    <tr>\n",
       "      <th>1</th>\n",
       "      <td>id_1</td>\n",
       "      <td>2.5</td>\n",
       "    </tr>\n",
       "    <tr>\n",
       "      <th>2</th>\n",
       "      <td>id_2</td>\n",
       "      <td>4.0</td>\n",
       "    </tr>\n",
       "    <tr>\n",
       "      <th>3</th>\n",
       "      <td>id_3</td>\n",
       "      <td>1.0</td>\n",
       "    </tr>\n",
       "    <tr>\n",
       "      <th>4</th>\n",
       "      <td>id_4</td>\n",
       "      <td>4.0</td>\n",
       "    </tr>\n",
       "  </tbody>\n",
       "</table>\n",
       "</div>"
      ],
      "text/plain": [
       "  Restaurant_id  Rating\n",
       "0          id_0     2.0\n",
       "1          id_1     2.5\n",
       "2          id_2     4.0\n",
       "3          id_3     1.0\n",
       "4          id_4     4.0"
      ]
     },
     "execution_count": 133,
     "metadata": {},
     "output_type": "execute_result"
    }
   ],
   "source": [
    "sample_submission.head()"
   ]
  },
  {
   "cell_type": "markdown",
   "metadata": {},
   "source": [
    "Для корректной обработки признаков объединяем train и test в один датасет."
   ]
  },
  {
   "cell_type": "code",
   "execution_count": 134,
   "metadata": {},
   "outputs": [],
   "source": [
    "df_train['sample'] = 1 # помечаем где у нас трейн\n",
    "df_test['sample'] = 0 # помечаем где у нас тест\n",
    "df_test['Rating'] = 0 # в тесте у нас нет значения Rating, мы его должны предсказать, поэтому пока просто заполняем нулями\n",
    "\n",
    "data = df_test.append(df_train, sort=False).reset_index(drop=True) # объединяем"
   ]
  },
  {
   "cell_type": "code",
   "execution_count": 135,
   "metadata": {},
   "outputs": [
    {
     "name": "stdout",
     "output_type": "stream",
     "text": [
      "<class 'pandas.core.frame.DataFrame'>\n",
      "RangeIndex: 50000 entries, 0 to 49999\n",
      "Data columns (total 11 columns):\n",
      " #   Column             Non-Null Count  Dtype  \n",
      "---  ------             --------------  -----  \n",
      " 0   Restaurant_id      50000 non-null  object \n",
      " 1   City               50000 non-null  object \n",
      " 2   Cuisine Style      38410 non-null  object \n",
      " 3   Ranking            50000 non-null  float64\n",
      " 4   Price Range        32639 non-null  object \n",
      " 5   Number of Reviews  46800 non-null  float64\n",
      " 6   Reviews            49998 non-null  object \n",
      " 7   URL_TA             50000 non-null  object \n",
      " 8   ID_TA              50000 non-null  object \n",
      " 9   sample             50000 non-null  int64  \n",
      " 10  Rating             50000 non-null  float64\n",
      "dtypes: float64(3), int64(1), object(7)\n",
      "memory usage: 4.2+ MB\n"
     ]
    }
   ],
   "source": [
    "data.info()"
   ]
  },
  {
   "cell_type": "code",
   "execution_count": 136,
   "metadata": {
    "scrolled": false
   },
   "outputs": [
    {
     "data": {
      "text/html": [
       "<div>\n",
       "<style scoped>\n",
       "    .dataframe tbody tr th:only-of-type {\n",
       "        vertical-align: middle;\n",
       "    }\n",
       "\n",
       "    .dataframe tbody tr th {\n",
       "        vertical-align: top;\n",
       "    }\n",
       "\n",
       "    .dataframe thead th {\n",
       "        text-align: right;\n",
       "    }\n",
       "</style>\n",
       "<table border=\"1\" class=\"dataframe\">\n",
       "  <thead>\n",
       "    <tr style=\"text-align: right;\">\n",
       "      <th></th>\n",
       "      <th>Restaurant_id</th>\n",
       "      <th>City</th>\n",
       "      <th>Cuisine Style</th>\n",
       "      <th>Ranking</th>\n",
       "      <th>Price Range</th>\n",
       "      <th>Number of Reviews</th>\n",
       "      <th>Reviews</th>\n",
       "      <th>URL_TA</th>\n",
       "      <th>ID_TA</th>\n",
       "      <th>sample</th>\n",
       "      <th>Rating</th>\n",
       "    </tr>\n",
       "  </thead>\n",
       "  <tbody>\n",
       "    <tr>\n",
       "      <th>10148</th>\n",
       "      <td>id_746</td>\n",
       "      <td>Lisbon</td>\n",
       "      <td>['European', 'Vegetarian Friendly']</td>\n",
       "      <td>747.0</td>\n",
       "      <td>$$ - $$$</td>\n",
       "      <td>42.0</td>\n",
       "      <td>[['Hidden treasure for tartar lovers', 'Absolu...</td>\n",
       "      <td>/Restaurant_Review-g189158-d10064175-Reviews-T...</td>\n",
       "      <td>d10064175</td>\n",
       "      <td>1</td>\n",
       "      <td>4.5</td>\n",
       "    </tr>\n",
       "    <tr>\n",
       "      <th>26436</th>\n",
       "      <td>id_698</td>\n",
       "      <td>Lyon</td>\n",
       "      <td>['Italian', 'Pizza', 'European']</td>\n",
       "      <td>699.0</td>\n",
       "      <td>$$ - $$$</td>\n",
       "      <td>83.0</td>\n",
       "      <td>[['Excellent pizza', 'Wonderful find on a cool...</td>\n",
       "      <td>/Restaurant_Review-g187265-d2371102-Reviews-St...</td>\n",
       "      <td>d2371102</td>\n",
       "      <td>1</td>\n",
       "      <td>4.0</td>\n",
       "    </tr>\n",
       "    <tr>\n",
       "      <th>8420</th>\n",
       "      <td>id_8420</td>\n",
       "      <td>London</td>\n",
       "      <td>['British']</td>\n",
       "      <td>10243.0</td>\n",
       "      <td>$$ - $$$</td>\n",
       "      <td>13.0</td>\n",
       "      <td>[['Grandsons Birthday Brunch', 'Kevin'], ['06/...</td>\n",
       "      <td>/Restaurant_Review-g186338-d4072304-Reviews-P_...</td>\n",
       "      <td>d4072304</td>\n",
       "      <td>0</td>\n",
       "      <td>0.0</td>\n",
       "    </tr>\n",
       "    <tr>\n",
       "      <th>22773</th>\n",
       "      <td>id_7831</td>\n",
       "      <td>London</td>\n",
       "      <td>['Bar', 'British', 'Pub']</td>\n",
       "      <td>7840.0</td>\n",
       "      <td>$$ - $$$</td>\n",
       "      <td>112.0</td>\n",
       "      <td>[['A Sanctuary From the Shopping', 'Good Pub i...</td>\n",
       "      <td>/Restaurant_Review-g186338-d7619607-Reviews-Th...</td>\n",
       "      <td>d7619607</td>\n",
       "      <td>1</td>\n",
       "      <td>4.0</td>\n",
       "    </tr>\n",
       "    <tr>\n",
       "      <th>23782</th>\n",
       "      <td>id_8140</td>\n",
       "      <td>Madrid</td>\n",
       "      <td>['Japanese', 'Sushi']</td>\n",
       "      <td>8147.0</td>\n",
       "      <td>$$ - $$$</td>\n",
       "      <td>67.0</td>\n",
       "      <td>[['Worst service ever (too bad for them as th....</td>\n",
       "      <td>/Restaurant_Review-g187514-d4167468-Reviews-Su...</td>\n",
       "      <td>d4167468</td>\n",
       "      <td>1</td>\n",
       "      <td>3.0</td>\n",
       "    </tr>\n",
       "    <tr>\n",
       "      <th>3272</th>\n",
       "      <td>id_3272</td>\n",
       "      <td>Oporto</td>\n",
       "      <td>['European', 'Portuguese']</td>\n",
       "      <td>1116.0</td>\n",
       "      <td>$$ - $$$</td>\n",
       "      <td>20.0</td>\n",
       "      <td>[['Stay away', 'Great Portuguese Restaurant in...</td>\n",
       "      <td>/Restaurant_Review-g189180-d7235855-Reviews-Re...</td>\n",
       "      <td>d7235855</td>\n",
       "      <td>0</td>\n",
       "      <td>0.0</td>\n",
       "    </tr>\n",
       "    <tr>\n",
       "      <th>4104</th>\n",
       "      <td>id_4104</td>\n",
       "      <td>Rome</td>\n",
       "      <td>['Italian', 'Vegetarian Friendly']</td>\n",
       "      <td>2140.0</td>\n",
       "      <td>$</td>\n",
       "      <td>174.0</td>\n",
       "      <td>[['best place for italian Aperitivo', 'good si...</td>\n",
       "      <td>/Restaurant_Review-g187791-d7256293-Reviews-Il...</td>\n",
       "      <td>d7256293</td>\n",
       "      <td>0</td>\n",
       "      <td>0.0</td>\n",
       "    </tr>\n",
       "  </tbody>\n",
       "</table>\n",
       "</div>"
      ],
      "text/plain": [
       "      Restaurant_id    City                        Cuisine Style  Ranking  \\\n",
       "10148        id_746  Lisbon  ['European', 'Vegetarian Friendly']    747.0   \n",
       "26436        id_698    Lyon     ['Italian', 'Pizza', 'European']    699.0   \n",
       "8420        id_8420  London                          ['British']  10243.0   \n",
       "22773       id_7831  London            ['Bar', 'British', 'Pub']   7840.0   \n",
       "23782       id_8140  Madrid                ['Japanese', 'Sushi']   8147.0   \n",
       "3272        id_3272  Oporto           ['European', 'Portuguese']   1116.0   \n",
       "4104        id_4104    Rome   ['Italian', 'Vegetarian Friendly']   2140.0   \n",
       "\n",
       "      Price Range  Number of Reviews  \\\n",
       "10148    $$ - $$$               42.0   \n",
       "26436    $$ - $$$               83.0   \n",
       "8420     $$ - $$$               13.0   \n",
       "22773    $$ - $$$              112.0   \n",
       "23782    $$ - $$$               67.0   \n",
       "3272     $$ - $$$               20.0   \n",
       "4104            $              174.0   \n",
       "\n",
       "                                                 Reviews  \\\n",
       "10148  [['Hidden treasure for tartar lovers', 'Absolu...   \n",
       "26436  [['Excellent pizza', 'Wonderful find on a cool...   \n",
       "8420   [['Grandsons Birthday Brunch', 'Kevin'], ['06/...   \n",
       "22773  [['A Sanctuary From the Shopping', 'Good Pub i...   \n",
       "23782  [['Worst service ever (too bad for them as th....   \n",
       "3272   [['Stay away', 'Great Portuguese Restaurant in...   \n",
       "4104   [['best place for italian Aperitivo', 'good si...   \n",
       "\n",
       "                                                  URL_TA      ID_TA  sample  \\\n",
       "10148  /Restaurant_Review-g189158-d10064175-Reviews-T...  d10064175       1   \n",
       "26436  /Restaurant_Review-g187265-d2371102-Reviews-St...   d2371102       1   \n",
       "8420   /Restaurant_Review-g186338-d4072304-Reviews-P_...   d4072304       0   \n",
       "22773  /Restaurant_Review-g186338-d7619607-Reviews-Th...   d7619607       1   \n",
       "23782  /Restaurant_Review-g187514-d4167468-Reviews-Su...   d4167468       1   \n",
       "3272   /Restaurant_Review-g189180-d7235855-Reviews-Re...   d7235855       0   \n",
       "4104   /Restaurant_Review-g187791-d7256293-Reviews-Il...   d7256293       0   \n",
       "\n",
       "       Rating  \n",
       "10148     4.5  \n",
       "26436     4.0  \n",
       "8420      0.0  \n",
       "22773     4.0  \n",
       "23782     3.0  \n",
       "3272      0.0  \n",
       "4104      0.0  "
      ]
     },
     "execution_count": 136,
     "metadata": {},
     "output_type": "execute_result"
    }
   ],
   "source": [
    "data.sample(7)"
   ]
  },
  {
   "cell_type": "markdown",
   "metadata": {},
   "source": [
    "В получившемся объединённом датасете мы видим 10 признаков (sample не считаем, так как это искуственный признак для дальнейшего разделения датасета). Три признака заполнены числовыми значениями (Ranking, Number of Reviews и Rating), остальные - номинативными. В некоторых признаках содержится достаточно большое количество пропусков. По условиям задания мы не можем удалять строки, так что будем заполнять пропуски и, возможно, создавать отдельный признак пропусков, так как отсуствия значения может быть также важной информацией для модели."
   ]
  },
  {
   "cell_type": "code",
   "execution_count": 137,
   "metadata": {},
   "outputs": [
    {
     "data": {
      "text/plain": [
       "Index(['rest_id', 'city', 'cuisine_style', 'ranking', 'price_range',\n",
       "       'number_of_rev', 'reviews', 'url_ta', 'id_ta', 'sample', 'rating'],\n",
       "      dtype='object')"
      ]
     },
     "execution_count": 137,
     "metadata": {},
     "output_type": "execute_result"
    }
   ],
   "source": [
    "# Переименуем колонки для удобства обращения к признакам\n",
    "data.rename(columns={'Restaurant_id': 'rest_id', 'City': 'city',\n",
    "                     'Cuisine Style': 'cuisine_style', 'Ranking': 'ranking',\n",
    "                     'Rating': 'rating', 'Price Range': 'price_range',\n",
    "                    'Number of Reviews': 'number_of_rev', 'Reviews': 'reviews',\n",
    "                    'URL_TA': 'url_ta', 'ID_TA': 'id_ta'}, inplace=True)\n",
    "\n",
    "data.columns"
   ]
  },
  {
   "cell_type": "markdown",
   "metadata": {},
   "source": [
    "## Cleaning and Prepping Data"
   ]
  },
  {
   "cell_type": "code",
   "execution_count": 138,
   "metadata": {},
   "outputs": [
    {
     "data": {
      "text/plain": [
       "rest_id              0\n",
       "city                 0\n",
       "cuisine_style    11590\n",
       "ranking              0\n",
       "price_range      17361\n",
       "number_of_rev     3200\n",
       "reviews              2\n",
       "url_ta               0\n",
       "id_ta                0\n",
       "sample               0\n",
       "rating               0\n",
       "dtype: int64"
      ]
     },
     "execution_count": 138,
     "metadata": {},
     "output_type": "execute_result"
    }
   ],
   "source": [
    "# Оценим количество пропусков в итоговом датасете\n",
    "data.isnull().sum()"
   ]
  },
  {
   "cell_type": "markdown",
   "metadata": {},
   "source": [
    "Рассмотрим каждый признак отдельно\n",
    "### 'rest_id'"
   ]
  },
  {
   "cell_type": "code",
   "execution_count": 139,
   "metadata": {},
   "outputs": [
    {
     "data": {
      "text/html": [
       "<div>\n",
       "<style scoped>\n",
       "    .dataframe tbody tr th:only-of-type {\n",
       "        vertical-align: middle;\n",
       "    }\n",
       "\n",
       "    .dataframe tbody tr th {\n",
       "        vertical-align: top;\n",
       "    }\n",
       "\n",
       "    .dataframe thead th {\n",
       "        text-align: right;\n",
       "    }\n",
       "</style>\n",
       "<table border=\"1\" class=\"dataframe\">\n",
       "  <thead>\n",
       "    <tr style=\"text-align: right;\">\n",
       "      <th></th>\n",
       "      <th>ranking</th>\n",
       "    </tr>\n",
       "  </thead>\n",
       "  <tbody>\n",
       "    <tr>\n",
       "      <th>ranking</th>\n",
       "      <td>1.0</td>\n",
       "    </tr>\n",
       "  </tbody>\n",
       "</table>\n",
       "</div>"
      ],
      "text/plain": [
       "         ranking\n",
       "ranking      1.0"
      ]
     },
     "execution_count": 139,
     "metadata": {},
     "output_type": "execute_result"
    }
   ],
   "source": [
    "# Проверим наличие зависимости между данным признаком и признаком ranking и оценим корреляцию.\n",
    "data[['rest_id', 'ranking']].corr()"
   ]
  },
  {
   "cell_type": "markdown",
   "metadata": {},
   "source": [
    "Да, корреляция есть. В таком случае признак rest_id удалим позже - на случай, если он пригодится для формирования новых признаков."
   ]
  },
  {
   "cell_type": "markdown",
   "metadata": {},
   "source": [
    "### 'city'"
   ]
  },
  {
   "cell_type": "code",
   "execution_count": 140,
   "metadata": {},
   "outputs": [
    {
     "data": {
      "text/plain": [
       "count      50000\n",
       "unique        31\n",
       "top       London\n",
       "freq        7193\n",
       "Name: city, dtype: object"
      ]
     },
     "execution_count": 140,
     "metadata": {},
     "output_type": "execute_result"
    }
   ],
   "source": [
    "data.city.describe()"
   ]
  },
  {
   "cell_type": "code",
   "execution_count": 141,
   "metadata": {
    "scrolled": false
   },
   "outputs": [
    {
     "data": {
      "text/plain": [
       "London        7193\n",
       "Paris         6108\n",
       "Madrid        3813\n",
       "Barcelona     3395\n",
       "Berlin        2705\n",
       "Milan         2694\n",
       "Rome          2589\n",
       "Prague        1816\n",
       "Lisbon        1647\n",
       "Vienna        1443\n",
       "Amsterdam     1372\n",
       "Brussels      1314\n",
       "Hamburg       1186\n",
       "Munich        1145\n",
       "Lyon          1126\n",
       "Stockholm     1033\n",
       "Budapest      1021\n",
       "Warsaw         925\n",
       "Dublin         836\n",
       "Copenhagen     819\n",
       "Athens         776\n",
       "Edinburgh      745\n",
       "Zurich         685\n",
       "Oporto         642\n",
       "Geneva         590\n",
       "Krakow         554\n",
       "Oslo           488\n",
       "Helsinki       475\n",
       "Bratislava     380\n",
       "Luxembourg     263\n",
       "Ljubljana      222\n",
       "Name: city, dtype: int64"
      ]
     },
     "execution_count": 141,
     "metadata": {},
     "output_type": "execute_result"
    }
   ],
   "source": [
    "data.city.value_counts()"
   ]
  },
  {
   "cell_type": "code",
   "execution_count": 142,
   "metadata": {},
   "outputs": [
    {
     "data": {
      "text/plain": [
       "0"
      ]
     },
     "execution_count": 142,
     "metadata": {},
     "output_type": "execute_result"
    }
   ],
   "source": [
    "data.city.isnull().sum()"
   ]
  },
  {
   "cell_type": "markdown",
   "metadata": {},
   "source": [
    "В данном признаке пропуски отсутствуют "
   ]
  },
  {
   "cell_type": "markdown",
   "metadata": {},
   "source": [
    "### 'number_of_rev'"
   ]
  },
  {
   "cell_type": "code",
   "execution_count": 143,
   "metadata": {},
   "outputs": [
    {
     "data": {
      "text/plain": [
       "count    46800.000000\n",
       "mean       124.471197\n",
       "std        294.114345\n",
       "min          2.000000\n",
       "25%          9.000000\n",
       "50%         33.000000\n",
       "75%        115.000000\n",
       "max       9660.000000\n",
       "Name: number_of_rev, dtype: float64"
      ]
     },
     "execution_count": 143,
     "metadata": {},
     "output_type": "execute_result"
    }
   ],
   "source": [
    "data.number_of_rev.describe()"
   ]
  },
  {
   "cell_type": "code",
   "execution_count": 144,
   "metadata": {},
   "outputs": [
    {
     "data": {
      "text/plain": [
       "3200"
      ]
     },
     "execution_count": 144,
     "metadata": {},
     "output_type": "execute_result"
    }
   ],
   "source": [
    "data.number_of_rev.isnull().sum()"
   ]
  },
  {
   "cell_type": "markdown",
   "metadata": {},
   "source": [
    "У нас присутствует 3200 пропусков. Отсутствие данного значения может быть важной информацией для модели. Поэтому давайте вынесем все пропуски в отдельный признак. А пропуски заполним нулем."
   ]
  },
  {
   "cell_type": "code",
   "execution_count": 145,
   "metadata": {},
   "outputs": [],
   "source": [
    "data['number_of_rev_is_NAN'] = pd.isna(data.number_of_rev).astype('uint8')\n",
    "data.number_of_rev.fillna(0, inplace=True)"
   ]
  },
  {
   "cell_type": "code",
   "execution_count": 146,
   "metadata": {},
   "outputs": [
    {
     "name": "stdout",
     "output_type": "stream",
     "text": [
      "Q1: 7.0\n",
      "Q3: 105.0\n",
      "IQR: 98.0\n",
      "Граница выбросов: [-140.0,252.0]\n"
     ]
    }
   ],
   "source": [
    "# Проверим признак на наличие выбросов\n",
    "find_IQR('number_of_rev')"
   ]
  },
  {
   "cell_type": "code",
   "execution_count": 147,
   "metadata": {},
   "outputs": [
    {
     "data": {
      "text/plain": [
       "5946"
      ]
     },
     "execution_count": 147,
     "metadata": {},
     "output_type": "execute_result"
    }
   ],
   "source": [
    "# Посмотрим, сколько значений у нас выбиывается за верхнюю границу выбросов.\n",
    "sum(data.number_of_rev > 252)"
   ]
  },
  {
   "cell_type": "markdown",
   "metadata": {},
   "source": [
    "Достаточно много. Посмотрим распределение на гистограмме, чтобы не отсекать сразу так много."
   ]
  },
  {
   "cell_type": "code",
   "execution_count": 148,
   "metadata": {},
   "outputs": [
    {
     "data": {
      "text/plain": [
       "<matplotlib.axes._subplots.AxesSubplot at 0x219adbbd730>"
      ]
     },
     "execution_count": 148,
     "metadata": {},
     "output_type": "execute_result"
    },
    {
     "data": {
      "image/png": "[encoded data removed]",
      "text/plain": [
       "<Figure size 432x288 with 1 Axes>"
      ]
     },
     "metadata": {
      "needs_background": "light"
     },
     "output_type": "display_data"
    }
   ],
   "source": [
    "data.number_of_rev.hist(bins=80)"
   ]
  },
  {
   "cell_type": "markdown",
   "metadata": {},
   "source": [
    "Так, мы видим что гистограмма смещена вправо, хвост длинный и уходит на убыль где-то в районе значения 1200. Посмотрим, сколько у нас значения больше 1200."
   ]
  },
  {
   "cell_type": "code",
   "execution_count": 149,
   "metadata": {},
   "outputs": [
    {
     "data": {
      "text/plain": [
       "571"
      ]
     },
     "execution_count": 149,
     "metadata": {},
     "output_type": "execute_result"
    }
   ],
   "source": [
    "sum(data.number_of_rev > 1200)"
   ]
  },
  {
   "cell_type": "code",
   "execution_count": 150,
   "metadata": {},
   "outputs": [
    {
     "data": {
      "text/plain": [
       "count    50000.000000\n",
       "mean       107.395580\n",
       "std        204.081303\n",
       "min          0.000000\n",
       "25%          7.000000\n",
       "50%         28.000000\n",
       "75%        105.000000\n",
       "max       1200.000000\n",
       "Name: number_of_rev, dtype: float64"
      ]
     },
     "execution_count": 150,
     "metadata": {},
     "output_type": "execute_result"
    }
   ],
   "source": [
    "# Давайте заменим эти значения на 1200.\n",
    "data.number_of_rev = data.number_of_rev.apply(lambda x: 1200 if x > 1200 else x)\n",
    "# И проверим результат\n",
    "data.number_of_rev.describe()"
   ]
  },
  {
   "cell_type": "markdown",
   "metadata": {},
   "source": [
    "### 'price_range'"
   ]
  },
  {
   "cell_type": "code",
   "execution_count": 151,
   "metadata": {},
   "outputs": [
    {
     "data": {
      "text/plain": [
       "$$ - $$$    23041\n",
       "$            7816\n",
       "$$$$         1782\n",
       "Name: price_range, dtype: int64"
      ]
     },
     "execution_count": 151,
     "metadata": {},
     "output_type": "execute_result"
    }
   ],
   "source": [
    "data.price_range.value_counts()"
   ]
  },
  {
   "cell_type": "code",
   "execution_count": 152,
   "metadata": {},
   "outputs": [
    {
     "data": {
      "text/plain": [
       "17361"
      ]
     },
     "execution_count": 152,
     "metadata": {},
     "output_type": "execute_result"
    }
   ],
   "source": [
    "sum(data.price_range.isnull())"
   ]
  },
  {
   "cell_type": "code",
   "execution_count": 153,
   "metadata": {},
   "outputs": [],
   "source": [
    "# Вынесем пропуски в отдельный признак, присвоим значениям порядковый номер, a пропуски заменим на ноль.\n",
    "price = {'$' : 1, '$$ - $$$' : 2, '$$$$' : 3}\n",
    "data.price_range = data.price_range.map(price)\n",
    "data['price_range_is_NAN'] = pd.isna(data.price_range).astype('uint8')\n",
    "data.price_range = data.price_range.fillna(0)"
   ]
  },
  {
   "cell_type": "code",
   "execution_count": 154,
   "metadata": {},
   "outputs": [
    {
     "data": {
      "text/plain": [
       "2.0    23041\n",
       "0.0    17361\n",
       "1.0     7816\n",
       "3.0     1782\n",
       "Name: price_range, dtype: int64"
      ]
     },
     "execution_count": 154,
     "metadata": {},
     "output_type": "execute_result"
    }
   ],
   "source": [
    "# Проверим результат\n",
    "data.price_range.value_counts()"
   ]
  },
  {
   "cell_type": "markdown",
   "metadata": {},
   "source": [
    "### 'id_ta'"
   ]
  },
  {
   "cell_type": "code",
   "execution_count": 157,
   "metadata": {},
   "outputs": [
    {
     "data": {
      "text/plain": [
       "d11674463    2\n",
       "d697406      2\n",
       "d5618007     2\n",
       "d4914988     2\n",
       "d11999956    2\n",
       "            ..\n",
       "d7705243     1\n",
       "d10537028    1\n",
       "d4324960     1\n",
       "d12897461    1\n",
       "d1420121     1\n",
       "Name: id_ta, Length: 49963, dtype: int64"
      ]
     },
     "execution_count": 157,
     "metadata": {},
     "output_type": "execute_result"
    }
   ],
   "source": [
    "data.id_ta.value_counts()"
   ]
  },
  {
   "cell_type": "markdown",
   "metadata": {},
   "source": [
    "Интересно, у нас есть рестораны с одним и тем же идентификатором в системе, следует рассмотреть их более поподробно."
   ]
  },
  {
   "cell_type": "code",
   "execution_count": 158,
   "metadata": {},
   "outputs": [
    {
     "data": {
      "text/plain": [
       "37"
      ]
     },
     "execution_count": 158,
     "metadata": {},
     "output_type": "execute_result"
    }
   ],
   "source": [
    "# Посмотрим, сколько у нас таких ресторанов\n",
    "sum(data.id_ta.value_counts() > 1)"
   ]
  },
  {
   "cell_type": "code",
   "execution_count": 159,
   "metadata": {},
   "outputs": [
    {
     "data": {
      "text/plain": [
       "9287"
      ]
     },
     "execution_count": 159,
     "metadata": {},
     "output_type": "execute_result"
    }
   ],
   "source": [
    "# Теперь вернёмся к колонке rest_id и посмотрим, есть ли там дважды встречающиеся значения\n",
    "sum(data.rest_id.value_counts() >= 2)"
   ]
  },
  {
   "cell_type": "markdown",
   "metadata": {},
   "source": [
    "В ситуации с rest_id можно предположить, что это какая-то сеть ресторанов (н-р, Макдональдс). Следственно мы можем создать признак, который бы указывал, является ли ресторан частью сети или нет. В ситуации с id_ta может быть это некая компания, которая владеет несколькими разными ресторанами. Сказать сложно. Давайте отфильтруем эти значения и посмотрим на них повнимательнее."
   ]
  },
  {
   "cell_type": "code",
   "execution_count": 160,
   "metadata": {},
   "outputs": [
    {
     "data": {
      "text/plain": [
       "13094"
      ]
     },
     "execution_count": 160,
     "metadata": {},
     "output_type": "execute_result"
    }
   ],
   "source": [
    "data.rest_id.nunique()"
   ]
  },
  {
   "cell_type": "code",
   "execution_count": 161,
   "metadata": {},
   "outputs": [
    {
     "data": {
      "text/plain": [
       "987900      2\n",
       "10316215    2\n",
       "1235635     2\n",
       "4748208     2\n",
       "10440367    2\n",
       "11698990    2\n",
       "1568045     2\n",
       "4914988     2\n",
       "13002276    2\n",
       "4600226     2\n",
       "12488993    2\n",
       "7337366     2\n",
       "3748757     2\n",
       "1028622     2\n",
       "9877640     2\n",
       "1315077     2\n",
       "5617412     2\n",
       "697406      2\n",
       "7809594     2\n",
       "2010743     2\n",
       "7827387     2\n",
       "10047799    2\n",
       "2669414     2\n",
       "3161682     2\n",
       "2360290     2\n",
       "11674463    2\n",
       "2477531     2\n",
       "5618007     2\n",
       "11921719    2\n",
       "11999956    2\n",
       "7342803     2\n",
       "793170      2\n",
       "3396817     2\n",
       "8753348     2\n",
       "3685055     2\n",
       "3647024     2\n",
       "9802625     2\n",
       "Name: id_ta, dtype: int64"
      ]
     },
     "execution_count": 161,
     "metadata": {},
     "output_type": "execute_result"
    }
   ],
   "source": [
    "data_id_ta_notunique = data[data['id_ta'].map(data['id_ta'].value_counts()) > 1]\n",
    "data_id_ta_notunique.id_ta = data_id_ta_notunique.id_ta.apply(lambda x: int(x[1:]))\n",
    "data_id_ta_notunique.id_ta.value_counts()"
   ]
  },
  {
   "cell_type": "code",
   "execution_count": 162,
   "metadata": {},
   "outputs": [
    {
     "data": {
      "text/html": [
       "<div>\n",
       "<style scoped>\n",
       "    .dataframe tbody tr th:only-of-type {\n",
       "        vertical-align: middle;\n",
       "    }\n",
       "\n",
       "    .dataframe tbody tr th {\n",
       "        vertical-align: top;\n",
       "    }\n",
       "\n",
       "    .dataframe thead th {\n",
       "        text-align: right;\n",
       "    }\n",
       "</style>\n",
       "<table border=\"1\" class=\"dataframe\">\n",
       "  <thead>\n",
       "    <tr style=\"text-align: right;\">\n",
       "      <th></th>\n",
       "      <th>rest_id</th>\n",
       "      <th>city</th>\n",
       "      <th>cuisine_style</th>\n",
       "      <th>ranking</th>\n",
       "      <th>price_range</th>\n",
       "      <th>number_of_rev</th>\n",
       "      <th>reviews</th>\n",
       "      <th>url_ta</th>\n",
       "      <th>id_ta</th>\n",
       "      <th>sample</th>\n",
       "      <th>rating</th>\n",
       "      <th>number_of_rev_is_NAN</th>\n",
       "      <th>price_range_is_NAN</th>\n",
       "    </tr>\n",
       "  </thead>\n",
       "  <tbody>\n",
       "    <tr>\n",
       "      <th>18019</th>\n",
       "      <td>id_2361</td>\n",
       "      <td>Madrid</td>\n",
       "      <td>['Seafood', 'Mediterranean', 'European', 'Span...</td>\n",
       "      <td>2363.0</td>\n",
       "      <td>2.0</td>\n",
       "      <td>190.0</td>\n",
       "      <td>[['Nice restaurant in Madrid', 'Highly reccome...</td>\n",
       "      <td>/Restaurant_Review-g187514-d987900-Reviews-Com...</td>\n",
       "      <td>987900</td>\n",
       "      <td>1</td>\n",
       "      <td>4.0</td>\n",
       "      <td>0</td>\n",
       "      <td>0</td>\n",
       "    </tr>\n",
       "    <tr>\n",
       "      <th>32998</th>\n",
       "      <td>id_2312</td>\n",
       "      <td>Madrid</td>\n",
       "      <td>['Seafood', 'Mediterranean', 'European', 'Span...</td>\n",
       "      <td>2314.0</td>\n",
       "      <td>2.0</td>\n",
       "      <td>190.0</td>\n",
       "      <td>[['Nice restaurant in Madrid', 'Highly reccome...</td>\n",
       "      <td>/Restaurant_Review-g187514-d987900-Reviews-Com...</td>\n",
       "      <td>987900</td>\n",
       "      <td>1</td>\n",
       "      <td>4.0</td>\n",
       "      <td>0</td>\n",
       "      <td>0</td>\n",
       "    </tr>\n",
       "  </tbody>\n",
       "</table>\n",
       "</div>"
      ],
      "text/plain": [
       "       rest_id    city                                      cuisine_style  \\\n",
       "18019  id_2361  Madrid  ['Seafood', 'Mediterranean', 'European', 'Span...   \n",
       "32998  id_2312  Madrid  ['Seafood', 'Mediterranean', 'European', 'Span...   \n",
       "\n",
       "       ranking  price_range  number_of_rev  \\\n",
       "18019   2363.0          2.0          190.0   \n",
       "32998   2314.0          2.0          190.0   \n",
       "\n",
       "                                                 reviews  \\\n",
       "18019  [['Nice restaurant in Madrid', 'Highly reccome...   \n",
       "32998  [['Nice restaurant in Madrid', 'Highly reccome...   \n",
       "\n",
       "                                                  url_ta   id_ta  sample  \\\n",
       "18019  /Restaurant_Review-g187514-d987900-Reviews-Com...  987900       1   \n",
       "32998  /Restaurant_Review-g187514-d987900-Reviews-Com...  987900       1   \n",
       "\n",
       "       rating  number_of_rev_is_NAN  price_range_is_NAN  \n",
       "18019     4.0                     0                   0  \n",
       "32998     4.0                     0                   0  "
      ]
     },
     "execution_count": 162,
     "metadata": {},
     "output_type": "execute_result"
    }
   ],
   "source": [
    "# Посмотрим на пару таких ресторанов с одинаковым идентификатором в базе данных TripAdvisor.\n",
    "data_id_ta_notunique.query('id_ta == 987900')"
   ]
  },
  {
   "cell_type": "markdown",
   "metadata": {},
   "source": [
    "Мы видим, что все значения, кроме rest_id и ranking совпадают. Теперь давайте проверим их url страницы."
   ]
  },
  {
   "cell_type": "code",
   "execution_count": 168,
   "metadata": {},
   "outputs": [
    {
     "name": "stdout",
     "output_type": "stream",
     "text": [
      "/Restaurant_Review-g187514-d987900-Reviews-Compostela_Restaurante-Madrid.html\n",
      "/Restaurant_Review-g187514-d987900-Reviews-Compostela_Restaurante-Madrid.html\n"
     ]
    }
   ],
   "source": [
    "print(data_id_ta_notunique.url_ta[18019], \n",
    "      data_id_ta_notunique.url_ta[32998], sep = '\\n')"
   ]
  },
  {
   "cell_type": "markdown",
   "metadata": {},
   "source": [
    "Нет, адреса идентичные. Значит в нашем датасете дублируется 37 ресторанов. Однако по условиям задачи удалять строки из датасета нельзя. Поэтому не трогаем эти дубликаты. Возможно, затем колонку id_ta удалим за ненадобностью, пока просто уберем символ d в начале и приведем к числовому значению и пойдем дальше."
   ]
  },
  {
   "cell_type": "code",
   "execution_count": 169,
   "metadata": {},
   "outputs": [],
   "source": [
    "data.id_ta = data.id_ta.apply(lambda x: int(x[1:]))"
   ]
  },
  {
   "cell_type": "markdown",
   "metadata": {},
   "source": [
    "### 'url_ta'"
   ]
  },
  {
   "cell_type": "code",
   "execution_count": 184,
   "metadata": {
    "scrolled": false
   },
   "outputs": [
    {
     "data": {
      "text/html": [
       "<div>\n",
       "<style scoped>\n",
       "    .dataframe tbody tr th:only-of-type {\n",
       "        vertical-align: middle;\n",
       "    }\n",
       "\n",
       "    .dataframe tbody tr th {\n",
       "        vertical-align: top;\n",
       "    }\n",
       "\n",
       "    .dataframe thead th {\n",
       "        text-align: right;\n",
       "    }\n",
       "</style>\n",
       "<table border=\"1\" class=\"dataframe\">\n",
       "  <thead>\n",
       "    <tr style=\"text-align: right;\">\n",
       "      <th></th>\n",
       "      <th>rest_id</th>\n",
       "      <th>city</th>\n",
       "      <th>cuisine_style</th>\n",
       "      <th>ranking</th>\n",
       "      <th>price_range</th>\n",
       "      <th>number_of_rev</th>\n",
       "      <th>reviews</th>\n",
       "      <th>url_ta</th>\n",
       "      <th>id_ta</th>\n",
       "      <th>sample</th>\n",
       "      <th>rating</th>\n",
       "      <th>number_of_rev_is_NAN</th>\n",
       "      <th>price_range_is_NAN</th>\n",
       "    </tr>\n",
       "  </thead>\n",
       "  <tbody>\n",
       "    <tr>\n",
       "      <th>0</th>\n",
       "      <td>id_0</td>\n",
       "      <td>Paris</td>\n",
       "      <td>['Bar', 'Pub']</td>\n",
       "      <td>12963.0</td>\n",
       "      <td>2.0</td>\n",
       "      <td>4.0</td>\n",
       "      <td>[[], []]</td>\n",
       "      <td>/Restaurant_Review-g187147-d10746918-Reviews-L...</td>\n",
       "      <td>10746918</td>\n",
       "      <td>0</td>\n",
       "      <td>0.0</td>\n",
       "      <td>0</td>\n",
       "      <td>0</td>\n",
       "    </tr>\n",
       "    <tr>\n",
       "      <th>1</th>\n",
       "      <td>id_1</td>\n",
       "      <td>Helsinki</td>\n",
       "      <td>['European', 'Scandinavian', 'Gluten Free Opti...</td>\n",
       "      <td>106.0</td>\n",
       "      <td>2.0</td>\n",
       "      <td>97.0</td>\n",
       "      <td>[['Very good reviews!', 'Fine dining in Hakani...</td>\n",
       "      <td>/Restaurant_Review-g189934-d6674944-Reviews-Ra...</td>\n",
       "      <td>6674944</td>\n",
       "      <td>0</td>\n",
       "      <td>0.0</td>\n",
       "      <td>0</td>\n",
       "      <td>0</td>\n",
       "    </tr>\n",
       "    <tr>\n",
       "      <th>2</th>\n",
       "      <td>id_2</td>\n",
       "      <td>Edinburgh</td>\n",
       "      <td>['Vegetarian Friendly']</td>\n",
       "      <td>810.0</td>\n",
       "      <td>2.0</td>\n",
       "      <td>28.0</td>\n",
       "      <td>[['Better than the Links', 'Ivy Black'], ['12/...</td>\n",
       "      <td>/Restaurant_Review-g186525-d13129638-Reviews-B...</td>\n",
       "      <td>13129638</td>\n",
       "      <td>0</td>\n",
       "      <td>0.0</td>\n",
       "      <td>0</td>\n",
       "      <td>0</td>\n",
       "    </tr>\n",
       "    <tr>\n",
       "      <th>3</th>\n",
       "      <td>id_3</td>\n",
       "      <td>London</td>\n",
       "      <td>['Italian', 'Mediterranean', 'European', 'Vege...</td>\n",
       "      <td>1669.0</td>\n",
       "      <td>3.0</td>\n",
       "      <td>202.0</td>\n",
       "      <td>[['Most exquisite', 'Delicious and authentic']...</td>\n",
       "      <td>/Restaurant_Review-g186338-d680417-Reviews-Qui...</td>\n",
       "      <td>680417</td>\n",
       "      <td>0</td>\n",
       "      <td>0.0</td>\n",
       "      <td>0</td>\n",
       "      <td>0</td>\n",
       "    </tr>\n",
       "    <tr>\n",
       "      <th>4</th>\n",
       "      <td>id_4</td>\n",
       "      <td>Bratislava</td>\n",
       "      <td>['Italian', 'Mediterranean', 'European', 'Seaf...</td>\n",
       "      <td>37.0</td>\n",
       "      <td>3.0</td>\n",
       "      <td>162.0</td>\n",
       "      <td>[['Always the best in bratislava', 'Very good ...</td>\n",
       "      <td>/Restaurant_Review-g274924-d1112354-Reviews-Ma...</td>\n",
       "      <td>1112354</td>\n",
       "      <td>0</td>\n",
       "      <td>0.0</td>\n",
       "      <td>0</td>\n",
       "      <td>0</td>\n",
       "    </tr>\n",
       "  </tbody>\n",
       "</table>\n",
       "</div>"
      ],
      "text/plain": [
       "  rest_id        city                                      cuisine_style  \\\n",
       "0    id_0       Paris                                     ['Bar', 'Pub']   \n",
       "1    id_1    Helsinki  ['European', 'Scandinavian', 'Gluten Free Opti...   \n",
       "2    id_2   Edinburgh                            ['Vegetarian Friendly']   \n",
       "3    id_3      London  ['Italian', 'Mediterranean', 'European', 'Vege...   \n",
       "4    id_4  Bratislava  ['Italian', 'Mediterranean', 'European', 'Seaf...   \n",
       "\n",
       "   ranking  price_range  number_of_rev  \\\n",
       "0  12963.0          2.0            4.0   \n",
       "1    106.0          2.0           97.0   \n",
       "2    810.0          2.0           28.0   \n",
       "3   1669.0          3.0          202.0   \n",
       "4     37.0          3.0          162.0   \n",
       "\n",
       "                                             reviews  \\\n",
       "0                                           [[], []]   \n",
       "1  [['Very good reviews!', 'Fine dining in Hakani...   \n",
       "2  [['Better than the Links', 'Ivy Black'], ['12/...   \n",
       "3  [['Most exquisite', 'Delicious and authentic']...   \n",
       "4  [['Always the best in bratislava', 'Very good ...   \n",
       "\n",
       "                                              url_ta     id_ta  sample  \\\n",
       "0  /Restaurant_Review-g187147-d10746918-Reviews-L...  10746918       0   \n",
       "1  /Restaurant_Review-g189934-d6674944-Reviews-Ra...   6674944       0   \n",
       "2  /Restaurant_Review-g186525-d13129638-Reviews-B...  13129638       0   \n",
       "3  /Restaurant_Review-g186338-d680417-Reviews-Qui...    680417       0   \n",
       "4  /Restaurant_Review-g274924-d1112354-Reviews-Ma...   1112354       0   \n",
       "\n",
       "   rating  number_of_rev_is_NAN  price_range_is_NAN  \n",
       "0     0.0                     0                   0  \n",
       "1     0.0                     0                   0  \n",
       "2     0.0                     0                   0  \n",
       "3     0.0                     0                   0  \n",
       "4     0.0                     0                   0  "
      ]
     },
     "execution_count": 184,
     "metadata": {},
     "output_type": "execute_result"
    }
   ],
   "source": [
    "data.loc[data.url_ta[0]:4]"
   ]
  },
  {
   "cell_type": "code",
   "execution_count": 185,
   "metadata": {},
   "outputs": [
    {
     "name": "stdout",
     "output_type": "stream",
     "text": [
      "/Restaurant_Review-g187147-d10746918-Reviews-Le_Perchoir-Paris_Ile_de_France.html\n",
      "/Restaurant_Review-g189934-d6674944-Reviews-Ravintola_Kolmon3n-Helsinki_Uusimaa.html\n"
     ]
    }
   ],
   "source": [
    "print(data.url_ta[0], data.url_ta[1], sep = '\\n')"
   ]
  },
  {
   "cell_type": "markdown",
   "metadata": {},
   "source": [
    "Мы видим, что url ресторана состоит из двух закодированных величин. Первая, судя по совпадениям, означает город, вторая совпадает с id_ta. Парсинг данных мы в данной задаче мы не используем. Давайте отделим код города."
   ]
  },
  {
   "cell_type": "code",
   "execution_count": 186,
   "metadata": {},
   "outputs": [
    {
     "data": {
      "text/plain": [
       "189934.0"
      ]
     },
     "execution_count": 186,
     "metadata": {},
     "output_type": "execute_result"
    }
   ],
   "source": [
    "data.url_ta = data.url_ta.apply(lambda x: x[20:26])\n",
    "data.url_ta = data.url_ta.apply(lambda x: float(x))\n",
    "data.url_ta[1]"
   ]
  },
  {
   "cell_type": "markdown",
   "metadata": {},
   "source": [
    "У нас осталось еще два нетронутых признака - стиль кухни и сами отзывы. Так как это текстовые объекты, а нам для модели необходимы числовые, то данные признаки сами по себе мы обработать не можем, но можем на их основе создать новые числовые признаки."
   ]
  },
  {
   "cell_type": "markdown",
   "metadata": {},
   "source": [
    "## Feature Engineering\n",
    "### 'cuisine_style'"
   ]
  },
  {
   "cell_type": "code",
   "execution_count": 189,
   "metadata": {},
   "outputs": [
    {
     "data": {
      "text/plain": [
       "str"
      ]
     },
     "execution_count": 189,
     "metadata": {},
     "output_type": "execute_result"
    }
   ],
   "source": [
    "type(data.cuisine_style[0])"
   ]
  },
  {
   "cell_type": "code",
   "execution_count": 190,
   "metadata": {},
   "outputs": [
    {
     "data": {
      "text/plain": [
       "11590"
      ]
     },
     "execution_count": 190,
     "metadata": {},
     "output_type": "execute_result"
    }
   ],
   "source": [
    "data.cuisine_style.isnull().sum()"
   ]
  },
  {
   "cell_type": "markdown",
   "metadata": {},
   "source": [
    "У нас 11590 пустых значений. Давайте вынесем их в отдельный признак. Предположим, что ресторан и сам не определился со стилем кухни, поэтому ничего не указывает. И может это будет полезно для модели."
   ]
  },
  {
   "cell_type": "code",
   "execution_count": 191,
   "metadata": {},
   "outputs": [],
   "source": [
    "data['cuisine_style_is_NAN'] = pd.isna(data.cuisine_style).astype('uint8')\n",
    "\n",
    "# Пустые значения заполним категорией Other.\n",
    "data.cuisine_style = data.cuisine_style.fillna(\"['Other']\")\n",
    "\n",
    "# переформатируем строку в список\n",
    "data.cuisine_style = data.cuisine_style.apply(lambda x: eval(x))\n",
    "\n",
    "# Добавим признак кол-ва кухонь в ресторане.\n",
    "data['number_of_cuisines'] = data.cuisine_style.apply(lambda x: len(x))"
   ]
  },
  {
   "cell_type": "code",
   "execution_count": 192,
   "metadata": {},
   "outputs": [],
   "source": [
    "# Посмотрим, какие кухни у нас чаще всего встречаются, а какие наоборот являются самыми редкими.\n",
    "group_city_cuisine = data.groupby(['city'])['cuisine_style'].sum().reset_index()"
   ]
  },
  {
   "cell_type": "code",
   "execution_count": 193,
   "metadata": {},
   "outputs": [
    {
     "data": {
      "text/html": [
       "<div>\n",
       "<style scoped>\n",
       "    .dataframe tbody tr th:only-of-type {\n",
       "        vertical-align: middle;\n",
       "    }\n",
       "\n",
       "    .dataframe tbody tr th {\n",
       "        vertical-align: top;\n",
       "    }\n",
       "\n",
       "    .dataframe thead th {\n",
       "        text-align: right;\n",
       "    }\n",
       "</style>\n",
       "<table border=\"1\" class=\"dataframe\">\n",
       "  <thead>\n",
       "    <tr style=\"text-align: right;\">\n",
       "      <th></th>\n",
       "      <th>city</th>\n",
       "      <th>cuisine_style</th>\n",
       "    </tr>\n",
       "  </thead>\n",
       "  <tbody>\n",
       "    <tr>\n",
       "      <th>0</th>\n",
       "      <td>Amsterdam</td>\n",
       "      <td>[Dutch, European, Vegetarian Friendly, Vegan O...</td>\n",
       "    </tr>\n",
       "    <tr>\n",
       "      <th>1</th>\n",
       "      <td>Athens</td>\n",
       "      <td>[Greek, Other, Mediterranean, European, Greek,...</td>\n",
       "    </tr>\n",
       "    <tr>\n",
       "      <th>2</th>\n",
       "      <td>Barcelona</td>\n",
       "      <td>[Other, Mediterranean, Spanish, Vegetarian Fri...</td>\n",
       "    </tr>\n",
       "    <tr>\n",
       "      <th>3</th>\n",
       "      <td>Berlin</td>\n",
       "      <td>[Other, Cafe, German, Other, Italian, Pizza, O...</td>\n",
       "    </tr>\n",
       "    <tr>\n",
       "      <th>4</th>\n",
       "      <td>Bratislava</td>\n",
       "      <td>[Italian, Mediterranean, European, Seafood, Ve...</td>\n",
       "    </tr>\n",
       "    <tr>\n",
       "      <th>5</th>\n",
       "      <td>Brussels</td>\n",
       "      <td>[Italian, Mediterranean, Pizza, Moroccan, Medi...</td>\n",
       "    </tr>\n",
       "    <tr>\n",
       "      <th>6</th>\n",
       "      <td>Budapest</td>\n",
       "      <td>[Other, Italian, Pizza, Street Food, Hungarian...</td>\n",
       "    </tr>\n",
       "    <tr>\n",
       "      <th>7</th>\n",
       "      <td>Copenhagen</td>\n",
       "      <td>[European, Scandinavian, Danish, Italian, Pizz...</td>\n",
       "    </tr>\n",
       "    <tr>\n",
       "      <th>8</th>\n",
       "      <td>Dublin</td>\n",
       "      <td>[Italian, Pizza, European, Gluten Free Options...</td>\n",
       "    </tr>\n",
       "    <tr>\n",
       "      <th>9</th>\n",
       "      <td>Edinburgh</td>\n",
       "      <td>[Vegetarian Friendly, Seafood, European, Briti...</td>\n",
       "    </tr>\n",
       "    <tr>\n",
       "      <th>10</th>\n",
       "      <td>Geneva</td>\n",
       "      <td>[Other, Healthy, Other, Pizza, Mediterranean, ...</td>\n",
       "    </tr>\n",
       "    <tr>\n",
       "      <th>11</th>\n",
       "      <td>Hamburg</td>\n",
       "      <td>[Other, Other, French, European, Central Europ...</td>\n",
       "    </tr>\n",
       "    <tr>\n",
       "      <th>12</th>\n",
       "      <td>Helsinki</td>\n",
       "      <td>[European, Scandinavian, Gluten Free Options, ...</td>\n",
       "    </tr>\n",
       "    <tr>\n",
       "      <th>13</th>\n",
       "      <td>Krakow</td>\n",
       "      <td>[Polish, Eastern European, European, Central E...</td>\n",
       "    </tr>\n",
       "    <tr>\n",
       "      <th>14</th>\n",
       "      <td>Lisbon</td>\n",
       "      <td>[European, Portuguese, European, Portuguese, H...</td>\n",
       "    </tr>\n",
       "    <tr>\n",
       "      <th>15</th>\n",
       "      <td>Ljubljana</td>\n",
       "      <td>[Barbecue, European, Eastern European, Central...</td>\n",
       "    </tr>\n",
       "    <tr>\n",
       "      <th>16</th>\n",
       "      <td>London</td>\n",
       "      <td>[Italian, Mediterranean, European, Vegetarian ...</td>\n",
       "    </tr>\n",
       "    <tr>\n",
       "      <th>17</th>\n",
       "      <td>Luxembourg</td>\n",
       "      <td>[French, European, Wine Bar, Chinese, Asian, S...</td>\n",
       "    </tr>\n",
       "    <tr>\n",
       "      <th>18</th>\n",
       "      <td>Lyon</td>\n",
       "      <td>[Other, French, Mediterranean, Other, European...</td>\n",
       "    </tr>\n",
       "    <tr>\n",
       "      <th>19</th>\n",
       "      <td>Madrid</td>\n",
       "      <td>[Other, European, Other, Mediterranean, Europe...</td>\n",
       "    </tr>\n",
       "    <tr>\n",
       "      <th>20</th>\n",
       "      <td>Milan</td>\n",
       "      <td>[Italian, Pizza, Vegetarian Friendly, Vegan Op...</td>\n",
       "    </tr>\n",
       "    <tr>\n",
       "      <th>21</th>\n",
       "      <td>Munich</td>\n",
       "      <td>[Greek, Japanese, Seafood, Sushi, Asian, Veget...</td>\n",
       "    </tr>\n",
       "    <tr>\n",
       "      <th>22</th>\n",
       "      <td>Oporto</td>\n",
       "      <td>[Other, Mediterranean, European, Portuguese, O...</td>\n",
       "    </tr>\n",
       "    <tr>\n",
       "      <th>23</th>\n",
       "      <td>Oslo</td>\n",
       "      <td>[French, European, Norwegian, Italian, Vegetar...</td>\n",
       "    </tr>\n",
       "    <tr>\n",
       "      <th>24</th>\n",
       "      <td>Paris</td>\n",
       "      <td>[Bar, Pub, French, Cafe, Fast Food, French, Ot...</td>\n",
       "    </tr>\n",
       "    <tr>\n",
       "      <th>25</th>\n",
       "      <td>Prague</td>\n",
       "      <td>[European, Czech, Eastern European, Central Eu...</td>\n",
       "    </tr>\n",
       "    <tr>\n",
       "      <th>26</th>\n",
       "      <td>Rome</td>\n",
       "      <td>[Other, Italian, Mediterranean, Vegetarian Fri...</td>\n",
       "    </tr>\n",
       "    <tr>\n",
       "      <th>27</th>\n",
       "      <td>Stockholm</td>\n",
       "      <td>[Italian, European, Swedish, Scandinavian, Veg...</td>\n",
       "    </tr>\n",
       "    <tr>\n",
       "      <th>28</th>\n",
       "      <td>Vienna</td>\n",
       "      <td>[Other, Other, Other, Austrian, European, Barb...</td>\n",
       "    </tr>\n",
       "    <tr>\n",
       "      <th>29</th>\n",
       "      <td>Warsaw</td>\n",
       "      <td>[Other, Italian, Italian, Pizza, Mediterranean...</td>\n",
       "    </tr>\n",
       "    <tr>\n",
       "      <th>30</th>\n",
       "      <td>Zurich</td>\n",
       "      <td>[Other, Swiss, European, Central European, Pub...</td>\n",
       "    </tr>\n",
       "  </tbody>\n",
       "</table>\n",
       "</div>"
      ],
      "text/plain": [
       "          city                                      cuisine_style\n",
       "0    Amsterdam  [Dutch, European, Vegetarian Friendly, Vegan O...\n",
       "1       Athens  [Greek, Other, Mediterranean, European, Greek,...\n",
       "2    Barcelona  [Other, Mediterranean, Spanish, Vegetarian Fri...\n",
       "3       Berlin  [Other, Cafe, German, Other, Italian, Pizza, O...\n",
       "4   Bratislava  [Italian, Mediterranean, European, Seafood, Ve...\n",
       "5     Brussels  [Italian, Mediterranean, Pizza, Moroccan, Medi...\n",
       "6     Budapest  [Other, Italian, Pizza, Street Food, Hungarian...\n",
       "7   Copenhagen  [European, Scandinavian, Danish, Italian, Pizz...\n",
       "8       Dublin  [Italian, Pizza, European, Gluten Free Options...\n",
       "9    Edinburgh  [Vegetarian Friendly, Seafood, European, Briti...\n",
       "10      Geneva  [Other, Healthy, Other, Pizza, Mediterranean, ...\n",
       "11     Hamburg  [Other, Other, French, European, Central Europ...\n",
       "12    Helsinki  [European, Scandinavian, Gluten Free Options, ...\n",
       "13      Krakow  [Polish, Eastern European, European, Central E...\n",
       "14      Lisbon  [European, Portuguese, European, Portuguese, H...\n",
       "15   Ljubljana  [Barbecue, European, Eastern European, Central...\n",
       "16      London  [Italian, Mediterranean, European, Vegetarian ...\n",
       "17  Luxembourg  [French, European, Wine Bar, Chinese, Asian, S...\n",
       "18        Lyon  [Other, French, Mediterranean, Other, European...\n",
       "19      Madrid  [Other, European, Other, Mediterranean, Europe...\n",
       "20       Milan  [Italian, Pizza, Vegetarian Friendly, Vegan Op...\n",
       "21      Munich  [Greek, Japanese, Seafood, Sushi, Asian, Veget...\n",
       "22      Oporto  [Other, Mediterranean, European, Portuguese, O...\n",
       "23        Oslo  [French, European, Norwegian, Italian, Vegetar...\n",
       "24       Paris  [Bar, Pub, French, Cafe, Fast Food, French, Ot...\n",
       "25      Prague  [European, Czech, Eastern European, Central Eu...\n",
       "26        Rome  [Other, Italian, Mediterranean, Vegetarian Fri...\n",
       "27   Stockholm  [Italian, European, Swedish, Scandinavian, Veg...\n",
       "28      Vienna  [Other, Other, Other, Austrian, European, Barb...\n",
       "29      Warsaw  [Other, Italian, Italian, Pizza, Mediterranean...\n",
       "30      Zurich  [Other, Swiss, European, Central European, Pub..."
      ]
     },
     "execution_count": 193,
     "metadata": {},
     "output_type": "execute_result"
    }
   ],
   "source": [
    "group_city_cuisine"
   ]
  },
  {
   "cell_type": "markdown",
   "metadata": {},
   "source": [
    "Посчитаем кол-во уникальных кухонь, используя счетчик. Посмотрим, какие кухни входят топ-10 самых часто и самых редко встречающиеся."
   ]
  },
  {
   "cell_type": "code",
   "execution_count": 199,
   "metadata": {},
   "outputs": [
    {
     "name": "stdout",
     "output_type": "stream",
     "text": [
      "Самые популярные:  [('Vegetarian Friendly', 14021), ('European', 12561), ('Other', 11590), ('Mediterranean', 7820), ('Italian', 7433), ('Vegan Options', 5684), ('Gluten Free Options', 5185), ('Bar', 4094), ('French', 3970), ('Asian', 3786)]\n",
      "\n",
      "Самые непопулярные:  [('Caucasian', 4), ('Azerbaijani', 3), ('Welsh', 3), ('Yunnan', 2), ('Polynesian', 2), ('Fujian', 2), ('Latvian', 1), ('Burmese', 1), ('Salvadoran', 1), ('Xinjiang', 1)]\n"
     ]
    }
   ],
   "source": [
    "c = collections.Counter()\n",
    "\n",
    "for cuisine_style in group_city_cuisine.cuisine_style:\n",
    "    for x in cuisine_style:\n",
    "        c[x] += 1\n",
    "\n",
    "print('Самые популярные: ', c.most_common(10))\n",
    "print()\n",
    "print('Самые непопулярные: ', c.most_common()[-10:])"
   ]
  },
  {
   "cell_type": "markdown",
   "metadata": {},
   "source": [
    "Добавим признак, имеет ли ресторан кухню, входящую в топ-10 по популярности и по редкости."
   ]
  },
  {
   "cell_type": "code",
   "execution_count": 200,
   "metadata": {},
   "outputs": [],
   "source": [
    "# Признак самых часто встречающихся кухонь\n",
    "top_10_cuisine = []\n",
    "top_10_cuisine = data.explode('cuisine_style')['cuisine_style'].value_counts()[\n",
    "    data.explode('cuisine_style')['cuisine_style'].value_counts() >= 3786].index.tolist()"
   ]
  },
  {
   "cell_type": "code",
   "execution_count": 201,
   "metadata": {},
   "outputs": [],
   "source": [
    "def most_common_cuisines(column):\n",
    "    x = 0\n",
    "    for i in top_10_cuisine:\n",
    "        if i in column:\n",
    "            x += 1\n",
    "    return x\n",
    "\n",
    "data['most_common_cuisine'] = data.cuisine_style.apply(most_common_cuisines)"
   ]
  },
  {
   "cell_type": "code",
   "execution_count": 202,
   "metadata": {},
   "outputs": [],
   "source": [
    "# Признак самых редко встречающихся кухонь\n",
    "top_unique_cuisine = []\n",
    "top_unique_cuisine = data.explode('cuisine_style')['cuisine_style'].value_counts()[\n",
    "    data.explode('cuisine_style')['cuisine_style'].value_counts() <= 4].index.tolist()"
   ]
  },
  {
   "cell_type": "code",
   "execution_count": 203,
   "metadata": {},
   "outputs": [],
   "source": [
    "def top_unique_cuisines(column):\n",
    "    x = 0\n",
    "    for i in top_unique_cuisine:\n",
    "        if i in column:\n",
    "            x += 1\n",
    "    return x\n",
    "\n",
    "data['top_unique_cuisine'] = data.cuisine_style.apply(top_unique_cuisines)"
   ]
  },
  {
   "cell_type": "markdown",
   "metadata": {},
   "source": [
    "### 'reviews'"
   ]
  },
  {
   "cell_type": "code",
   "execution_count": 204,
   "metadata": {},
   "outputs": [
    {
     "data": {
      "text/plain": [
       "2"
      ]
     },
     "execution_count": 204,
     "metadata": {},
     "output_type": "execute_result"
    }
   ],
   "source": [
    "data.reviews.isnull().sum()"
   ]
  },
  {
   "cell_type": "code",
   "execution_count": 205,
   "metadata": {},
   "outputs": [
    {
     "data": {
      "text/plain": [
       "[[], []]                                                                                                           8112\n",
       "[['Very good all around', 'Our first Madrid restaurant'], ['11/20/2017', '10/11/2017']]                               2\n",
       "[['Excellent cuisine, friendly and helpful se...', 'Not tasty'], ['12/25/2016', '06/05/2016']]                        2\n",
       "[['Very average food. Over average prices.', 'great food with great service!'], ['11/17/2017', '08/17/2017']]         2\n",
       "[['Nice restaurant in Madrid', 'Highly reccomended'], ['11/10/2017', '05/21/2017']]                                   2\n",
       "                                                                                                                   ... \n",
       "[['太好吃😋 Extremely Good Sichuan food 🥘', 'Great chinese restaurant'], ['12/06/2017', '06/02/2017']]                    1\n",
       "[['Great experience', 'Amazing service, best Japanese in Milano'], ['12/16/2017', '12/10/2017']]                      1\n",
       "[['Very very good experience!', 'Fine choice if you have time and like Ital...'], ['11/12/2017', '07/02/2017']]       1\n",
       "[['No place better than this.....', 'The best restaurant in Ljubljana'], ['01/02/2018', '12/16/2017']]                1\n",
       "[['Nice dinner place', 'Great local hang out'], ['09/27/2017', '09/23/2017']]                                         1\n",
       "Name: reviews, Length: 41857, dtype: int64"
      ]
     },
     "execution_count": 205,
     "metadata": {},
     "output_type": "execute_result"
    }
   ],
   "source": [
    "data.reviews.value_counts()"
   ]
  },
  {
   "cell_type": "markdown",
   "metadata": {},
   "source": [
    "Мы видим, что данный признак состоит из текстового отзыва и даты. У нас есть два явных пропуска и 8112 пропусков не явных, которые не имеют внутри ничего кроме скобок. Отсутствие отзыва может быть важным для модели, поэтому давайте вынесем все отзывы в отдельный признак."
   ]
  },
  {
   "cell_type": "code",
   "execution_count": 206,
   "metadata": {},
   "outputs": [],
   "source": [
    "data['review_is_NAN'] = (data.reviews == '[[], []]').astype('uint8')\n",
    "data['review_is_NAN'] = pd.isna(data.reviews).astype('uint8')"
   ]
  },
  {
   "cell_type": "markdown",
   "metadata": {},
   "source": [
    "Отделим дату от отзыва и посмотрим, какую информацию мы можем получить из даты."
   ]
  },
  {
   "cell_type": "code",
   "execution_count": 207,
   "metadata": {},
   "outputs": [],
   "source": [
    "data['date_of_review'] = data['reviews'].apply(\n",
    "    lambda x: [0] if pd.isna(x) else x[2:-2].split('], [')[1][1:-1].split(\"', '\"))"
   ]
  },
  {
   "cell_type": "code",
   "execution_count": 208,
   "metadata": {},
   "outputs": [
    {
     "data": {
      "text/plain": [
       "count                       41888\n",
       "mean     123 days 05:05:55.462184\n",
       "std      212 days 14:08:22.315988\n",
       "min               0 days 00:00:00\n",
       "25%               8 days 00:00:00\n",
       "50%              49 days 00:00:00\n",
       "75%             148 days 00:00:00\n",
       "max            3296 days 00:00:00\n",
       "Name: days_between_reviews, dtype: object"
      ]
     },
     "execution_count": 208,
     "metadata": {},
     "output_type": "execute_result"
    }
   ],
   "source": [
    "# Добавим признак кол-ва дней между отзывами.\n",
    "data['days_between_reviews'] = data.date_of_review.apply(lambda x: None if x == [] else pd.to_datetime(x).max() - pd.to_datetime(x).min())\n",
    "\n",
    "data.days_between_reviews.describe()"
   ]
  },
  {
   "cell_type": "markdown",
   "metadata": {},
   "source": [
    "У нас есть максимальное значение в 3296 дней. Давайте переведем значения в числа и посмотрим выбросы."
   ]
  },
  {
   "cell_type": "code",
   "execution_count": 209,
   "metadata": {},
   "outputs": [],
   "source": [
    "data['days_between_reviews'] = data['days_between_reviews'].apply(lambda x: x.days)"
   ]
  },
  {
   "cell_type": "code",
   "execution_count": 211,
   "metadata": {},
   "outputs": [
    {
     "name": "stdout",
     "output_type": "stream",
     "text": [
      "Q1: 8.0\n",
      "Q3: 148.0\n",
      "IQR: 140.0\n",
      "Граница выбросов: [-202.0,358.0]\n"
     ]
    }
   ],
   "source": [
    "# посмотрим выбросы\n",
    "find_IQR('days_between_reviews')"
   ]
  },
  {
   "cell_type": "code",
   "execution_count": 212,
   "metadata": {},
   "outputs": [
    {
     "data": {
      "text/plain": [
       "3492"
      ]
     },
     "execution_count": 212,
     "metadata": {},
     "output_type": "execute_result"
    }
   ],
   "source": [
    "len(data.query('days_between_reviews > 358'))"
   ]
  },
  {
   "cell_type": "code",
   "execution_count": 213,
   "metadata": {},
   "outputs": [
    {
     "data": {
      "text/plain": [
       "<matplotlib.axes._subplots.AxesSubplot at 0x219ad311b50>"
      ]
     },
     "execution_count": 213,
     "metadata": {},
     "output_type": "execute_result"
    },
    {
     "data": {
      "image/png": "[encoded data removed]",
      "text/plain": [
       "<Figure size 432x288 with 1 Axes>"
      ]
     },
     "metadata": {
      "needs_background": "light"
     },
     "output_type": "display_data"
    }
   ],
   "source": [
    "data.days_between_reviews.hist(bins=100)"
   ]
  },
  {
   "cell_type": "markdown",
   "metadata": {},
   "source": [
    "По выбросам мы видим, что хвост тянется непрерывно до 1200. Давайте посмотрим, сколько у нас таких значений и сгладим выбросы, присвоив им пограничное значение 1200."
   ]
  },
  {
   "cell_type": "code",
   "execution_count": 214,
   "metadata": {},
   "outputs": [
    {
     "data": {
      "text/plain": [
       "285"
      ]
     },
     "execution_count": 214,
     "metadata": {},
     "output_type": "execute_result"
    }
   ],
   "source": [
    "len(data.query('days_between_reviews > 1200'))"
   ]
  },
  {
   "cell_type": "code",
   "execution_count": 215,
   "metadata": {},
   "outputs": [],
   "source": [
    "data.days_between_reviews = data.days_between_reviews.apply(lambda x: 1200 if x > 1200 else x)"
   ]
  },
  {
   "cell_type": "code",
   "execution_count": 216,
   "metadata": {},
   "outputs": [
    {
     "data": {
      "text/plain": [
       "0"
      ]
     },
     "execution_count": 216,
     "metadata": {},
     "output_type": "execute_result"
    }
   ],
   "source": [
    "len(data.query('days_between_reviews > 1200'))"
   ]
  },
  {
   "cell_type": "code",
   "execution_count": 217,
   "metadata": {},
   "outputs": [
    {
     "data": {
      "text/plain": [
       "8112"
      ]
     },
     "execution_count": 217,
     "metadata": {},
     "output_type": "execute_result"
    }
   ],
   "source": [
    "data.days_between_reviews.isnull().sum()"
   ]
  },
  {
   "cell_type": "markdown",
   "metadata": {},
   "source": [
    "Пропусков очень много, давайте заполним их медианой."
   ]
  },
  {
   "cell_type": "code",
   "execution_count": 218,
   "metadata": {},
   "outputs": [
    {
     "data": {
      "text/plain": [
       "count    41888.000000\n",
       "mean       120.315651\n",
       "std        190.546256\n",
       "min          0.000000\n",
       "25%          8.000000\n",
       "50%         49.000000\n",
       "75%        148.000000\n",
       "max       1200.000000\n",
       "Name: days_between_reviews, dtype: float64"
      ]
     },
     "execution_count": 218,
     "metadata": {},
     "output_type": "execute_result"
    }
   ],
   "source": [
    "data.days_between_reviews.describe()"
   ]
  },
  {
   "cell_type": "code",
   "execution_count": 221,
   "metadata": {},
   "outputs": [
    {
     "data": {
      "text/plain": [
       "0"
      ]
     },
     "execution_count": 221,
     "metadata": {},
     "output_type": "execute_result"
    }
   ],
   "source": [
    "data.days_between_reviews = data.days_between_reviews.fillna(data.days_between_reviews.median())\n",
    "data.days_between_reviews.isnull().sum()"
   ]
  },
  {
   "cell_type": "markdown",
   "metadata": {},
   "source": [
    "Добавим ещё один признак - количество дней с последнего отзыва до настоящего момента."
   ]
  },
  {
   "cell_type": "code",
   "execution_count": 222,
   "metadata": {},
   "outputs": [
    {
     "data": {
      "text/plain": [
       "8112"
      ]
     },
     "execution_count": 222,
     "metadata": {},
     "output_type": "execute_result"
    }
   ],
   "source": [
    "data['days_till_now'] = data.date_of_review.apply(\n",
    "    lambda x: None if x == [] else datetime.now() - pd.to_datetime(x).max())\n",
    "\n",
    "data['days_till_now'] = data['days_till_now'].apply(lambda x: x.days)\n",
    "data.days_till_now.isnull().sum()"
   ]
  },
  {
   "cell_type": "code",
   "execution_count": 225,
   "metadata": {},
   "outputs": [
    {
     "data": {
      "text/plain": [
       "count    41888.000000\n",
       "mean      1391.871276\n",
       "std        382.403027\n",
       "min       1101.000000\n",
       "25%       1180.000000\n",
       "50%       1254.500000\n",
       "75%       1438.000000\n",
       "max      18689.000000\n",
       "Name: days_till_now, dtype: float64"
      ]
     },
     "execution_count": 225,
     "metadata": {},
     "output_type": "execute_result"
    }
   ],
   "source": [
    "data.days_till_now.describe()"
   ]
  },
  {
   "cell_type": "code",
   "execution_count": 226,
   "metadata": {},
   "outputs": [],
   "source": [
    "# Теперь заменим пропуски на среднее.\n",
    "data.days_till_now = data.days_till_now.fillna(data.days_till_now.mean())"
   ]
  },
  {
   "cell_type": "code",
   "execution_count": 227,
   "metadata": {},
   "outputs": [
    {
     "data": {
      "text/plain": [
       "0"
      ]
     },
     "execution_count": 227,
     "metadata": {},
     "output_type": "execute_result"
    }
   ],
   "source": [
    "data.days_till_now.isnull().sum()"
   ]
  },
  {
   "cell_type": "code",
   "execution_count": 229,
   "metadata": {
    "scrolled": true
   },
   "outputs": [
    {
     "data": {
      "text/html": [
       "<div>\n",
       "<style scoped>\n",
       "    .dataframe tbody tr th:only-of-type {\n",
       "        vertical-align: middle;\n",
       "    }\n",
       "\n",
       "    .dataframe tbody tr th {\n",
       "        vertical-align: top;\n",
       "    }\n",
       "\n",
       "    .dataframe thead th {\n",
       "        text-align: right;\n",
       "    }\n",
       "</style>\n",
       "<table border=\"1\" class=\"dataframe\">\n",
       "  <thead>\n",
       "    <tr style=\"text-align: right;\">\n",
       "      <th></th>\n",
       "      <th>rest_id</th>\n",
       "      <th>city</th>\n",
       "      <th>cuisine_style</th>\n",
       "      <th>ranking</th>\n",
       "      <th>price_range</th>\n",
       "      <th>number_of_rev</th>\n",
       "      <th>reviews</th>\n",
       "      <th>url_ta</th>\n",
       "      <th>id_ta</th>\n",
       "      <th>sample</th>\n",
       "      <th>...</th>\n",
       "      <th>number_of_rev_is_NAN</th>\n",
       "      <th>price_range_is_NAN</th>\n",
       "      <th>cuisine_style_is_NAN</th>\n",
       "      <th>number_of_cuisines</th>\n",
       "      <th>most_common_cuisine</th>\n",
       "      <th>top_unique_cuisine</th>\n",
       "      <th>review_is_NAN</th>\n",
       "      <th>date_of_review</th>\n",
       "      <th>days_between_reviews</th>\n",
       "      <th>days_till_now</th>\n",
       "    </tr>\n",
       "  </thead>\n",
       "  <tbody>\n",
       "    <tr>\n",
       "      <th>11618</th>\n",
       "      <td>id_2666</td>\n",
       "      <td>Vienna</td>\n",
       "      <td>[Austrian, Polish, European, Russian, Eastern ...</td>\n",
       "      <td>2668.0</td>\n",
       "      <td>1.0</td>\n",
       "      <td>0.0</td>\n",
       "      <td>[[], []]</td>\n",
       "      <td>190454.0</td>\n",
       "      <td>11538645</td>\n",
       "      <td>1</td>\n",
       "      <td>...</td>\n",
       "      <td>1</td>\n",
       "      <td>0</td>\n",
       "      <td>0</td>\n",
       "      <td>6</td>\n",
       "      <td>1</td>\n",
       "      <td>0</td>\n",
       "      <td>0</td>\n",
       "      <td>[]</td>\n",
       "      <td>49.0</td>\n",
       "      <td>1391.871276</td>\n",
       "    </tr>\n",
       "    <tr>\n",
       "      <th>5850</th>\n",
       "      <td>id_5850</td>\n",
       "      <td>Paris</td>\n",
       "      <td>[French, Bar, European, Gastropub]</td>\n",
       "      <td>4132.0</td>\n",
       "      <td>2.0</td>\n",
       "      <td>124.0</td>\n",
       "      <td>[['Excellent food second visit', 'Great food, ...</td>\n",
       "      <td>187147.0</td>\n",
       "      <td>4167666</td>\n",
       "      <td>0</td>\n",
       "      <td>...</td>\n",
       "      <td>0</td>\n",
       "      <td>0</td>\n",
       "      <td>0</td>\n",
       "      <td>4</td>\n",
       "      <td>3</td>\n",
       "      <td>0</td>\n",
       "      <td>0</td>\n",
       "      <td>[06/16/2017, 05/06/2017]</td>\n",
       "      <td>41.0</td>\n",
       "      <td>1356.000000</td>\n",
       "    </tr>\n",
       "    <tr>\n",
       "      <th>17243</th>\n",
       "      <td>id_753</td>\n",
       "      <td>Barcelona</td>\n",
       "      <td>[Japanese, European, Spanish, Mediterranean, V...</td>\n",
       "      <td>754.0</td>\n",
       "      <td>2.0</td>\n",
       "      <td>867.0</td>\n",
       "      <td>[['Great location good food', 'Great setting, ...</td>\n",
       "      <td>187497.0</td>\n",
       "      <td>6657102</td>\n",
       "      <td>1</td>\n",
       "      <td>...</td>\n",
       "      <td>0</td>\n",
       "      <td>0</td>\n",
       "      <td>0</td>\n",
       "      <td>7</td>\n",
       "      <td>5</td>\n",
       "      <td>0</td>\n",
       "      <td>0</td>\n",
       "      <td>[12/21/2017, 12/18/2017]</td>\n",
       "      <td>3.0</td>\n",
       "      <td>1168.000000</td>\n",
       "    </tr>\n",
       "    <tr>\n",
       "      <th>42492</th>\n",
       "      <td>id_1487</td>\n",
       "      <td>Copenhagen</td>\n",
       "      <td>[Other]</td>\n",
       "      <td>1490.0</td>\n",
       "      <td>0.0</td>\n",
       "      <td>7.0</td>\n",
       "      <td>[['Good value for a quick meal'], ['06/26/2016']]</td>\n",
       "      <td>189541.0</td>\n",
       "      <td>7995294</td>\n",
       "      <td>1</td>\n",
       "      <td>...</td>\n",
       "      <td>0</td>\n",
       "      <td>1</td>\n",
       "      <td>1</td>\n",
       "      <td>1</td>\n",
       "      <td>1</td>\n",
       "      <td>0</td>\n",
       "      <td>0</td>\n",
       "      <td>[06/26/2016]</td>\n",
       "      <td>0.0</td>\n",
       "      <td>1711.000000</td>\n",
       "    </tr>\n",
       "    <tr>\n",
       "      <th>38889</th>\n",
       "      <td>id_8701</td>\n",
       "      <td>London</td>\n",
       "      <td>[Other]</td>\n",
       "      <td>8710.0</td>\n",
       "      <td>0.0</td>\n",
       "      <td>12.0</td>\n",
       "      <td>[['Sad', 'Fantastic fresh food, but a but pric...</td>\n",
       "      <td>186338.0</td>\n",
       "      <td>7346902</td>\n",
       "      <td>1</td>\n",
       "      <td>...</td>\n",
       "      <td>0</td>\n",
       "      <td>1</td>\n",
       "      <td>1</td>\n",
       "      <td>1</td>\n",
       "      <td>1</td>\n",
       "      <td>0</td>\n",
       "      <td>0</td>\n",
       "      <td>[09/16/2016, 02/18/2016]</td>\n",
       "      <td>211.0</td>\n",
       "      <td>1629.000000</td>\n",
       "    </tr>\n",
       "    <tr>\n",
       "      <th>2818</th>\n",
       "      <td>id_2818</td>\n",
       "      <td>Milan</td>\n",
       "      <td>[Italian, Vegetarian Friendly]</td>\n",
       "      <td>1636.0</td>\n",
       "      <td>1.0</td>\n",
       "      <td>37.0</td>\n",
       "      <td>[['Fantastic place to chill or work', 'Cute pl...</td>\n",
       "      <td>187849.0</td>\n",
       "      <td>8001669</td>\n",
       "      <td>0</td>\n",
       "      <td>...</td>\n",
       "      <td>0</td>\n",
       "      <td>0</td>\n",
       "      <td>0</td>\n",
       "      <td>2</td>\n",
       "      <td>2</td>\n",
       "      <td>0</td>\n",
       "      <td>0</td>\n",
       "      <td>[07/06/2017, 04/18/2017]</td>\n",
       "      <td>79.0</td>\n",
       "      <td>1336.000000</td>\n",
       "    </tr>\n",
       "    <tr>\n",
       "      <th>17709</th>\n",
       "      <td>id_670</td>\n",
       "      <td>Hamburg</td>\n",
       "      <td>[Other]</td>\n",
       "      <td>671.0</td>\n",
       "      <td>0.0</td>\n",
       "      <td>25.0</td>\n",
       "      <td>[['Cozy cafe', 'Great look and feel excellent ...</td>\n",
       "      <td>187331.0</td>\n",
       "      <td>6966863</td>\n",
       "      <td>1</td>\n",
       "      <td>...</td>\n",
       "      <td>0</td>\n",
       "      <td>1</td>\n",
       "      <td>1</td>\n",
       "      <td>1</td>\n",
       "      <td>1</td>\n",
       "      <td>0</td>\n",
       "      <td>0</td>\n",
       "      <td>[07/23/2016, 06/11/2016]</td>\n",
       "      <td>42.0</td>\n",
       "      <td>1684.000000</td>\n",
       "    </tr>\n",
       "  </tbody>\n",
       "</table>\n",
       "<p>7 rows × 21 columns</p>\n",
       "</div>"
      ],
      "text/plain": [
       "       rest_id        city                                      cuisine_style  \\\n",
       "11618  id_2666      Vienna  [Austrian, Polish, European, Russian, Eastern ...   \n",
       "5850   id_5850       Paris                 [French, Bar, European, Gastropub]   \n",
       "17243   id_753   Barcelona  [Japanese, European, Spanish, Mediterranean, V...   \n",
       "42492  id_1487  Copenhagen                                            [Other]   \n",
       "38889  id_8701      London                                            [Other]   \n",
       "2818   id_2818       Milan                     [Italian, Vegetarian Friendly]   \n",
       "17709   id_670     Hamburg                                            [Other]   \n",
       "\n",
       "       ranking  price_range  number_of_rev  \\\n",
       "11618   2668.0          1.0            0.0   \n",
       "5850    4132.0          2.0          124.0   \n",
       "17243    754.0          2.0          867.0   \n",
       "42492   1490.0          0.0            7.0   \n",
       "38889   8710.0          0.0           12.0   \n",
       "2818    1636.0          1.0           37.0   \n",
       "17709    671.0          0.0           25.0   \n",
       "\n",
       "                                                 reviews    url_ta     id_ta  \\\n",
       "11618                                           [[], []]  190454.0  11538645   \n",
       "5850   [['Excellent food second visit', 'Great food, ...  187147.0   4167666   \n",
       "17243  [['Great location good food', 'Great setting, ...  187497.0   6657102   \n",
       "42492  [['Good value for a quick meal'], ['06/26/2016']]  189541.0   7995294   \n",
       "38889  [['Sad', 'Fantastic fresh food, but a but pric...  186338.0   7346902   \n",
       "2818   [['Fantastic place to chill or work', 'Cute pl...  187849.0   8001669   \n",
       "17709  [['Cozy cafe', 'Great look and feel excellent ...  187331.0   6966863   \n",
       "\n",
       "       sample  ...  number_of_rev_is_NAN  price_range_is_NAN  \\\n",
       "11618       1  ...                     1                   0   \n",
       "5850        0  ...                     0                   0   \n",
       "17243       1  ...                     0                   0   \n",
       "42492       1  ...                     0                   1   \n",
       "38889       1  ...                     0                   1   \n",
       "2818        0  ...                     0                   0   \n",
       "17709       1  ...                     0                   1   \n",
       "\n",
       "       cuisine_style_is_NAN  number_of_cuisines  most_common_cuisine  \\\n",
       "11618                     0                   6                    1   \n",
       "5850                      0                   4                    3   \n",
       "17243                     0                   7                    5   \n",
       "42492                     1                   1                    1   \n",
       "38889                     1                   1                    1   \n",
       "2818                      0                   2                    2   \n",
       "17709                     1                   1                    1   \n",
       "\n",
       "       top_unique_cuisine  review_is_NAN            date_of_review  \\\n",
       "11618                   0              0                        []   \n",
       "5850                    0              0  [06/16/2017, 05/06/2017]   \n",
       "17243                   0              0  [12/21/2017, 12/18/2017]   \n",
       "42492                   0              0              [06/26/2016]   \n",
       "38889                   0              0  [09/16/2016, 02/18/2016]   \n",
       "2818                    0              0  [07/06/2017, 04/18/2017]   \n",
       "17709                   0              0  [07/23/2016, 06/11/2016]   \n",
       "\n",
       "      days_between_reviews  days_till_now  \n",
       "11618                 49.0    1391.871276  \n",
       "5850                  41.0    1356.000000  \n",
       "17243                  3.0    1168.000000  \n",
       "42492                  0.0    1711.000000  \n",
       "38889                211.0    1629.000000  \n",
       "2818                  79.0    1336.000000  \n",
       "17709                 42.0    1684.000000  \n",
       "\n",
       "[7 rows x 21 columns]"
      ]
     },
     "execution_count": 229,
     "metadata": {},
     "output_type": "execute_result"
    }
   ],
   "source": [
    "data.sample(7)"
   ]
  },
  {
   "cell_type": "markdown",
   "metadata": {},
   "source": [
    "## Рассмотрим распределение признаков"
   ]
  },
  {
   "cell_type": "code",
   "execution_count": 230,
   "metadata": {},
   "outputs": [
    {
     "data": {
      "text/plain": [
       "<matplotlib.axes._subplots.AxesSubplot at 0x219b0d9e760>"
      ]
     },
     "execution_count": 230,
     "metadata": {},
     "output_type": "execute_result"
    },
    {
     "data": {
      "image/png": "[encoded data removed]",
      "text/plain": [
       "<Figure size 720x504 with 1 Axes>"
      ]
     },
     "metadata": {
      "needs_background": "light"
     },
     "output_type": "display_data"
    }
   ],
   "source": [
    "plt.rcParams['figure.figsize'] = (10,7)\n",
    "data['ranking'].hist(bins=100)"
   ]
  },
  {
   "cell_type": "code",
   "execution_count": 231,
   "metadata": {},
   "outputs": [
    {
     "data": {
      "text/plain": [
       "<matplotlib.axes._subplots.AxesSubplot at 0x219b0ed0490>"
      ]
     },
     "execution_count": 231,
     "metadata": {},
     "output_type": "execute_result"
    },
    {
     "data": {
      "image/png": "[encoded data removed]",
      "text/plain": [
       "<Figure size 720x504 with 1 Axes>"
      ]
     },
     "metadata": {
      "needs_background": "light"
     },
     "output_type": "display_data"
    }
   ],
   "source": [
    "data['city'].value_counts(ascending=True).plot(kind='barh')"
   ]
  },
  {
   "cell_type": "code",
   "execution_count": 232,
   "metadata": {},
   "outputs": [
    {
     "data": {
      "text/plain": [
       "<matplotlib.axes._subplots.AxesSubplot at 0x219b0ff2e20>"
      ]
     },
     "execution_count": 232,
     "metadata": {},
     "output_type": "execute_result"
    },
    {
     "data": {
      "image/png": "[encoded data removed]",
      "text/plain": [
       "<Figure size 720x504 with 1 Axes>"
      ]
     },
     "metadata": {
      "needs_background": "light"
     },
     "output_type": "display_data"
    }
   ],
   "source": [
    "data['ranking'][data['city'] =='London'].hist(bins=100)"
   ]
  },
  {
   "cell_type": "code",
   "execution_count": 233,
   "metadata": {},
   "outputs": [
    {
     "data": {
      "image/png": "[encoded data removed]",
      "text/plain": [
       "<Figure size 720x504 with 1 Axes>"
      ]
     },
     "metadata": {
      "needs_background": "light"
     },
     "output_type": "display_data"
    }
   ],
   "source": [
    "# посмотрим на топ-10 городов\n",
    "for x in (data['city'].value_counts())[0:10].index:\n",
    "    data['ranking'][data['city'] == x].hist(bins=100)\n",
    "plt.show()"
   ]
  },
  {
   "cell_type": "markdown",
   "metadata": {},
   "source": [
    "Получается, что Ranking имеет нормальное распределение. Но из-за того, что в больших городах ресторанов больше, наблюдается смещение."
   ]
  },
  {
   "cell_type": "code",
   "execution_count": 234,
   "metadata": {},
   "outputs": [
    {
     "data": {
      "text/plain": [
       "<matplotlib.axes._subplots.AxesSubplot at 0x219b10304c0>"
      ]
     },
     "execution_count": 234,
     "metadata": {},
     "output_type": "execute_result"
    },
    {
     "data": {
      "image/png": "[encoded data removed]",
      "text/plain": [
       "<Figure size 1080x720 with 2 Axes>"
      ]
     },
     "metadata": {
      "needs_background": "light"
     },
     "output_type": "display_data"
    }
   ],
   "source": [
    "plt.rcParams['figure.figsize'] = (15,10)\n",
    "sns.heatmap(data.drop(['sample'], axis=1).corr(),)"
   ]
  },
  {
   "cell_type": "markdown",
   "metadata": {},
   "source": [
    "Добавим несколько признаков, которые могут улучшить работу нашей модели."
   ]
  },
  {
   "cell_type": "markdown",
   "metadata": {},
   "source": [
    "#### 1. Численность населения (по данным Евростат за 2019г)"
   ]
  },
  {
   "cell_type": "code",
   "execution_count": 237,
   "metadata": {},
   "outputs": [],
   "source": [
    "population = {\n",
    "    'London' : 8982458,\n",
    "    'Paris' : 2140526,\n",
    "    'Madrid' : 6642519,\n",
    "    'Barcelona' : 5575897,\n",
    "    'Berlin' : 3769495,\n",
    "    'Milan' : 1399860,\n",
    "    'Rome' : 2879728,\n",
    "    'Prague' : 1309277,\n",
    "    'Lisbon' : 509627,\n",
    "    'Vienna' : 1867582,\n",
    "    'Amsterdam' : 880562,\n",
    "    'Brussels' : 1209542,\n",
    "    'Hamburg' : 1841179,\n",
    "    'Munich' : 1472226,\n",
    "    'Lyon' : 506615,\n",
    "    'Stockholm' : 2352549,\n",
    "    'Budapest' : 1752286,\n",
    "    'Warsaw' : 1790658,\n",
    "    'Dublin' : 1388453,\n",
    "    'Copenhagen' : 1096187,\n",
    "    'Athens' : 754123,\n",
    "    'Edinburgh' : 524964, \n",
    "    'Zurich' : 1539678,\n",
    "    'Oporto' : 287591,\n",
    "    'Geneva' : 499480, \n",
    "    'Krakow' : 779115, \n",
    "    'Oslo' : 681067, \n",
    "    'Helsinki' : 656229,\n",
    "    'Bratislava' : 425923,\n",
    "    'Luxembourg' : 613894,\n",
    "    'Ljubljana' : 284355\n",
    "}\n",
    "\n",
    "data['population'] = data.city.map(population)"
   ]
  },
  {
   "cell_type": "markdown",
   "metadata": {},
   "source": [
    "#### 2. Индекс покупательской способности (по данным рейтинга Numbeo 2018г)"
   ]
  },
  {
   "cell_type": "code",
   "execution_count": 250,
   "metadata": {},
   "outputs": [],
   "source": [
    "purchasing_power_index = {\n",
    "    'London' : 24,\n",
    "    'Paris' : 22,\n",
    "    'Madrid' : 23,\n",
    "    'Barcelona' : 30,\n",
    "    'Berlin' : 8,\n",
    "    'Milan' : 40,\n",
    "    'Rome' : 37,\n",
    "    'Prague' : 31,\n",
    "    'Lisbon' : 48,\n",
    "    'Vienna' : 21,\n",
    "    'Amsterdam' : 19,\n",
    "    'Brussels' : 15,\n",
    "    'Hamburg' : 7,\n",
    "    'Munich' : 6,\n",
    "    'Lyon' : 70,\n",
    "    'Stockholm' : 13,\n",
    "    'Budapest' : 51,\n",
    "    'Warsaw' : 29,\n",
    "    'Dublin' : 27,\n",
    "    'Copenhagen' : 10,\n",
    "    'Athens' : 53,\n",
    "    'Edinburgh' : 16, \n",
    "    'Zurich' : 2,\n",
    "    'Oporto' : 42,\n",
    "    'Geneva' : 3, \n",
    "    'Krakow' : 36, \n",
    "    'Oslo' : 17, \n",
    "    'Helsinki' : 9,\n",
    "    'Bratislava' : 39,\n",
    "    'Luxembourg' : 4,\n",
    "    'Ljubljana' : 32\n",
    "}\n",
    "\n",
    "data['purchasing_power'] = data.city.map(purchasing_power_index)"
   ]
  },
  {
   "cell_type": "markdown",
   "metadata": {},
   "source": [
    "#### 3. Является ли город столицей (1 - да, 0 - нет)"
   ]
  },
  {
   "cell_type": "code",
   "execution_count": 251,
   "metadata": {},
   "outputs": [],
   "source": [
    "capital = ['London', 'Paris', 'Madrid', 'Berlin', 'Rome', 'Prague',\n",
    "          'Lisbon', 'Vienna', 'Amsterdam', 'Brussels', 'Stockholm',\n",
    "          'Budapest', 'Warsaw', 'Dublin', 'Copenhagen', 'Athens',\n",
    "          'Edinburgh', 'Oslo', 'Helsinki', 'Bratislava',\n",
    "          'Luxembourg', 'Ljubljana']\n",
    "data['is_capital'] = data.city.apply(lambda x: 1 if x in capital else 0)"
   ]
  },
  {
   "cell_type": "markdown",
   "metadata": {},
   "source": [
    "#### 4. Количество ресторанов в городе"
   ]
  },
  {
   "cell_type": "code",
   "execution_count": 252,
   "metadata": {},
   "outputs": [],
   "source": [
    "number_of_rest_city = data.groupby('city')['ranking'].count().to_dict()\n",
    "data['rest_city_count'] = data.city.map(number_of_rest_city)"
   ]
  },
  {
   "cell_type": "markdown",
   "metadata": {},
   "source": [
    "#### 5. Относительный рейтинг ресторана по городу"
   ]
  },
  {
   "cell_type": "code",
   "execution_count": 253,
   "metadata": {},
   "outputs": [],
   "source": [
    "data['city_ranking'] = data.ranking / data.rest_city_count"
   ]
  },
  {
   "cell_type": "markdown",
   "metadata": {},
   "source": [
    "На этом анализ и добавление признаков, связанных с городами, закончен. переходим к следующей части анализа и визуализации данных."
   ]
  },
  {
   "cell_type": "code",
   "execution_count": 254,
   "metadata": {},
   "outputs": [
    {
     "data": {
      "text/plain": [
       "<seaborn.axisgrid.JointGrid at 0x219b12decd0>"
      ]
     },
     "execution_count": 254,
     "metadata": {},
     "output_type": "execute_result"
    },
    {
     "data": {
      "image/png": "[encoded data removed]",
      "text/plain": [
       "<Figure size 432x432 with 3 Axes>"
      ]
     },
     "metadata": {
      "needs_background": "light"
     },
     "output_type": "display_data"
    }
   ],
   "source": [
    "sns.jointplot(x = 'ranking', y = 'number_of_rev', data = data, kind = 'reg')"
   ]
  },
  {
   "cell_type": "code",
   "execution_count": 255,
   "metadata": {},
   "outputs": [
    {
     "data": {
      "text/plain": [
       "<matplotlib.axes._subplots.AxesSubplot at 0x219b17a9790>"
      ]
     },
     "execution_count": 255,
     "metadata": {},
     "output_type": "execute_result"
    },
    {
     "data": {
      "image/png": "[encoded data removed]",
      "text/plain": [
       "<Figure size 1080x720 with 2 Axes>"
      ]
     },
     "metadata": {
      "needs_background": "light"
     },
     "output_type": "display_data"
    }
   ],
   "source": [
    "plt.rcParams['figure.figsize'] = (15,10)\n",
    "sns.heatmap(data.drop(['sample'], axis=1).corr(),)"
   ]
  },
  {
   "cell_type": "markdown",
   "metadata": {},
   "source": [
    "Добавим ещё несколько признаков"
   ]
  },
  {
   "cell_type": "markdown",
   "metadata": {},
   "source": [
    "#### 6. Рейтинг ресторана на основании количества отзывов"
   ]
  },
  {
   "cell_type": "code",
   "execution_count": 258,
   "metadata": {},
   "outputs": [],
   "source": [
    "data['ranking_rev_count'] = data.ranking * data.number_of_rev"
   ]
  },
  {
   "cell_type": "markdown",
   "metadata": {},
   "source": [
    "#### 7. Соотношение количества отзывов и населения города"
   ]
  },
  {
   "cell_type": "code",
   "execution_count": 260,
   "metadata": {},
   "outputs": [],
   "source": [
    "data['reviews_per_city_pop'] = data.number_of_rev / data.population"
   ]
  },
  {
   "cell_type": "markdown",
   "metadata": {},
   "source": [
    "#### 8. Признак среднее кол-во отзывов в городе"
   ]
  },
  {
   "cell_type": "code",
   "execution_count": 261,
   "metadata": {},
   "outputs": [],
   "source": [
    "mean_rev_per_city = data.groupby('city')['number_of_rev'].mean()\n",
    "mean_rev_per_city = mean_rev_per_city.apply(lambda x: round(x, 2))\n",
    "data['mean_rev_per_city'] = data.city.map(mean_rev_per_city)"
   ]
  },
  {
   "cell_type": "code",
   "execution_count": 262,
   "metadata": {},
   "outputs": [
    {
     "data": {
      "image/png": "[encoded data removed]",
      "text/plain": [
       "<Figure size 1440x720 with 2 Axes>"
      ]
     },
     "metadata": {
      "needs_background": "light"
     },
     "output_type": "display_data"
    }
   ],
   "source": [
    "fig, ax = plt.subplots(1,1, figsize = (20,10))\n",
    "ax = sns.heatmap(data.corr(),annot = True, cmap = 'coolwarm')"
   ]
  },
  {
   "cell_type": "markdown",
   "metadata": {},
   "source": [
    "#### 9. Туристическая привлекательность (по данным рейтинга топ-100 городов посещения в 2018 году, источник - Euromonitor international)"
   ]
  },
  {
   "cell_type": "code",
   "execution_count": 263,
   "metadata": {},
   "outputs": [],
   "source": [
    "'''\n",
    "Так как не все города входят в топ-100, разделим города на группы:\n",
    "    1 место 1-25\n",
    "    2 место 26-50\n",
    "    3 место 51-75\n",
    "    4 место 76-100\n",
    "    5 место выше 100\n",
    "'''\n",
    "\n",
    "tourist_attract = {\n",
    "    'London' : 1,\n",
    "    'Paris' : 1,\n",
    "    'Madrid' : 2,\n",
    "    'Barcelona' : 2,\n",
    "    'Berlin' : 2,\n",
    "    'Milan' : 5,\n",
    "    'Rome' : 1,\n",
    "    'Prague' : 1,\n",
    "    'Lisbon' : 3,\n",
    "    'Vienna' : 2,\n",
    "    'Amsterdam' : 1,\n",
    "    'Brussels' : 3,\n",
    "    'Hamburg' : 5,\n",
    "    'Munich' : 3,\n",
    "    'Lyon' : 5,\n",
    "    'Stockholm' : 4,\n",
    "    'Budapest' : 3,\n",
    "    'Warsaw' : 3,\n",
    "    'Dublin' : 5,\n",
    "    'Copenhagen' : 3,\n",
    "    'Athens' : 2,\n",
    "    'Edinburgh' : 5, \n",
    "    'Zurich' : 5,\n",
    "    'Oporto' : 4,\n",
    "    'Geneva' : 5, \n",
    "    'Krakow' : 3, \n",
    "    'Oslo' : 5, \n",
    "    'Helsinki' : 5,\n",
    "    'Bratislava' : 5,\n",
    "    'Luxembourg' : 5,\n",
    "    'Ljubljana' : 5\n",
    "}\n",
    "\n",
    "data['tourist_attract'] = data.city.map(tourist_attract)"
   ]
  },
  {
   "cell_type": "markdown",
   "metadata": {},
   "source": [
    "Как уже было замечено, связь между городом и рейтингом ресторана оказывает довольно сильное влияние на модель, следует создать вспомогательный признак максимального рейтинга по городу.\n",
    "#### 10. Максимальный рейтинг"
   ]
  },
  {
   "cell_type": "code",
   "execution_count": 264,
   "metadata": {},
   "outputs": [],
   "source": [
    "ranking_max_per_city = data.groupby('city')['ranking'].max()\n",
    "data['rating_max_per_city'] = data.city.map(ranking_max_per_city)"
   ]
  },
  {
   "cell_type": "markdown",
   "metadata": {},
   "source": [
    "### Отбор признаков \n",
    "\n",
    "В ходе работы над проектом были добавлены следующие признаки: длина отзыва, входит ле ресторан в сеть ресторанов, среднее количествово туристов в городе, принадлежность к той или иной стране. Однако данные признаки ухудшили работу модели, поэтому я в итоговой модели я их не использовала.\n",
    "Кроме этого экспериментально было выяснено, что признаки rest_id, number_of_rev_is_NAN, review_is_NAN, is_capital увеличивают MAE, поэтому в отборе признаков для модели я их также не учитывала."
   ]
  },
  {
   "cell_type": "code",
   "execution_count": 265,
   "metadata": {},
   "outputs": [],
   "source": [
    "data = pd.get_dummies(data, columns=['city'], dummy_na=True)"
   ]
  },
  {
   "cell_type": "markdown",
   "metadata": {},
   "source": [
    "### Data Preprocessing"
   ]
  },
  {
   "cell_type": "code",
   "execution_count": 266,
   "metadata": {},
   "outputs": [
    {
     "name": "stdout",
     "output_type": "stream",
     "text": [
      "<class 'pandas.core.frame.DataFrame'>\n",
      "RangeIndex: 50000 entries, 0 to 49999\n",
      "Data columns (total 62 columns):\n",
      " #   Column                Non-Null Count  Dtype  \n",
      "---  ------                --------------  -----  \n",
      " 0   rest_id               50000 non-null  object \n",
      " 1   cuisine_style         50000 non-null  object \n",
      " 2   ranking               50000 non-null  float64\n",
      " 3   price_range           50000 non-null  float64\n",
      " 4   number_of_rev         50000 non-null  float64\n",
      " 5   reviews               49998 non-null  object \n",
      " 6   url_ta                50000 non-null  float64\n",
      " 7   id_ta                 50000 non-null  int64  \n",
      " 8   sample                50000 non-null  int64  \n",
      " 9   rating                50000 non-null  float64\n",
      " 10  number_of_rev_is_NAN  50000 non-null  uint8  \n",
      " 11  price_range_is_NAN    50000 non-null  uint8  \n",
      " 12  cuisine_style_is_NAN  50000 non-null  uint8  \n",
      " 13  number_of_cuisines    50000 non-null  int64  \n",
      " 14  most_common_cuisine   50000 non-null  int64  \n",
      " 15  top_unique_cuisine    50000 non-null  int64  \n",
      " 16  review_is_NAN         50000 non-null  uint8  \n",
      " 17  date_of_review        50000 non-null  object \n",
      " 18  days_between_reviews  50000 non-null  float64\n",
      " 19  days_till_now         50000 non-null  float64\n",
      " 20  population            50000 non-null  int64  \n",
      " 21  purchasing_power      50000 non-null  int64  \n",
      " 22  is_capital            50000 non-null  int64  \n",
      " 23  rest_city_count       50000 non-null  int64  \n",
      " 24  city_ranking          50000 non-null  float64\n",
      " 25  ranking_rev_count     50000 non-null  float64\n",
      " 26  reviews_per_city_pop  50000 non-null  float64\n",
      " 27  mean_rev_per_city     50000 non-null  float64\n",
      " 28  tourist_attract       50000 non-null  int64  \n",
      " 29  rating_max_per_city   50000 non-null  float64\n",
      " 30  city_Amsterdam        50000 non-null  uint8  \n",
      " 31  city_Athens           50000 non-null  uint8  \n",
      " 32  city_Barcelona        50000 non-null  uint8  \n",
      " 33  city_Berlin           50000 non-null  uint8  \n",
      " 34  city_Bratislava       50000 non-null  uint8  \n",
      " 35  city_Brussels         50000 non-null  uint8  \n",
      " 36  city_Budapest         50000 non-null  uint8  \n",
      " 37  city_Copenhagen       50000 non-null  uint8  \n",
      " 38  city_Dublin           50000 non-null  uint8  \n",
      " 39  city_Edinburgh        50000 non-null  uint8  \n",
      " 40  city_Geneva           50000 non-null  uint8  \n",
      " 41  city_Hamburg          50000 non-null  uint8  \n",
      " 42  city_Helsinki         50000 non-null  uint8  \n",
      " 43  city_Krakow           50000 non-null  uint8  \n",
      " 44  city_Lisbon           50000 non-null  uint8  \n",
      " 45  city_Ljubljana        50000 non-null  uint8  \n",
      " 46  city_London           50000 non-null  uint8  \n",
      " 47  city_Luxembourg       50000 non-null  uint8  \n",
      " 48  city_Lyon             50000 non-null  uint8  \n",
      " 49  city_Madrid           50000 non-null  uint8  \n",
      " 50  city_Milan            50000 non-null  uint8  \n",
      " 51  city_Munich           50000 non-null  uint8  \n",
      " 52  city_Oporto           50000 non-null  uint8  \n",
      " 53  city_Oslo             50000 non-null  uint8  \n",
      " 54  city_Paris            50000 non-null  uint8  \n",
      " 55  city_Prague           50000 non-null  uint8  \n",
      " 56  city_Rome             50000 non-null  uint8  \n",
      " 57  city_Stockholm        50000 non-null  uint8  \n",
      " 58  city_Vienna           50000 non-null  uint8  \n",
      " 59  city_Warsaw           50000 non-null  uint8  \n",
      " 60  city_Zurich           50000 non-null  uint8  \n",
      " 61  city_nan              50000 non-null  uint8  \n",
      "dtypes: float64(12), int64(10), object(4), uint8(36)\n",
      "memory usage: 11.6+ MB\n"
     ]
    }
   ],
   "source": [
    "data.info()"
   ]
  },
  {
   "cell_type": "code",
   "execution_count": 267,
   "metadata": {},
   "outputs": [
    {
     "data": {
      "text/html": [
       "<div>\n",
       "<style scoped>\n",
       "    .dataframe tbody tr th:only-of-type {\n",
       "        vertical-align: middle;\n",
       "    }\n",
       "\n",
       "    .dataframe tbody tr th {\n",
       "        vertical-align: top;\n",
       "    }\n",
       "\n",
       "    .dataframe thead th {\n",
       "        text-align: right;\n",
       "    }\n",
       "</style>\n",
       "<table border=\"1\" class=\"dataframe\">\n",
       "  <thead>\n",
       "    <tr style=\"text-align: right;\">\n",
       "      <th></th>\n",
       "      <th>rest_id</th>\n",
       "      <th>cuisine_style</th>\n",
       "      <th>ranking</th>\n",
       "      <th>price_range</th>\n",
       "      <th>number_of_rev</th>\n",
       "      <th>reviews</th>\n",
       "      <th>url_ta</th>\n",
       "      <th>id_ta</th>\n",
       "      <th>sample</th>\n",
       "      <th>rating</th>\n",
       "      <th>number_of_rev_is_NAN</th>\n",
       "      <th>price_range_is_NAN</th>\n",
       "      <th>cuisine_style_is_NAN</th>\n",
       "      <th>number_of_cuisines</th>\n",
       "      <th>most_common_cuisine</th>\n",
       "      <th>top_unique_cuisine</th>\n",
       "      <th>review_is_NAN</th>\n",
       "      <th>date_of_review</th>\n",
       "      <th>days_between_reviews</th>\n",
       "      <th>days_till_now</th>\n",
       "      <th>population</th>\n",
       "      <th>purchasing_power</th>\n",
       "      <th>is_capital</th>\n",
       "      <th>rest_city_count</th>\n",
       "      <th>city_ranking</th>\n",
       "      <th>ranking_rev_count</th>\n",
       "      <th>reviews_per_city_pop</th>\n",
       "      <th>mean_rev_per_city</th>\n",
       "      <th>tourist_attract</th>\n",
       "      <th>rating_max_per_city</th>\n",
       "      <th>city_Amsterdam</th>\n",
       "      <th>city_Athens</th>\n",
       "      <th>city_Barcelona</th>\n",
       "      <th>city_Berlin</th>\n",
       "      <th>city_Bratislava</th>\n",
       "      <th>city_Brussels</th>\n",
       "      <th>city_Budapest</th>\n",
       "      <th>city_Copenhagen</th>\n",
       "      <th>city_Dublin</th>\n",
       "      <th>city_Edinburgh</th>\n",
       "      <th>city_Geneva</th>\n",
       "      <th>city_Hamburg</th>\n",
       "      <th>city_Helsinki</th>\n",
       "      <th>city_Krakow</th>\n",
       "      <th>city_Lisbon</th>\n",
       "      <th>city_Ljubljana</th>\n",
       "      <th>city_London</th>\n",
       "      <th>city_Luxembourg</th>\n",
       "      <th>city_Lyon</th>\n",
       "      <th>city_Madrid</th>\n",
       "      <th>city_Milan</th>\n",
       "      <th>city_Munich</th>\n",
       "      <th>city_Oporto</th>\n",
       "      <th>city_Oslo</th>\n",
       "      <th>city_Paris</th>\n",
       "      <th>city_Prague</th>\n",
       "      <th>city_Rome</th>\n",
       "      <th>city_Stockholm</th>\n",
       "      <th>city_Vienna</th>\n",
       "      <th>city_Warsaw</th>\n",
       "      <th>city_Zurich</th>\n",
       "      <th>city_nan</th>\n",
       "    </tr>\n",
       "  </thead>\n",
       "  <tbody>\n",
       "    <tr>\n",
       "      <th>29742</th>\n",
       "      <td>id_2107</td>\n",
       "      <td>[Other]</td>\n",
       "      <td>2112.0</td>\n",
       "      <td>0.0</td>\n",
       "      <td>9.0</td>\n",
       "      <td>[['A little peice of Italia in Amsterdam', 'Fa...</td>\n",
       "      <td>188590.0</td>\n",
       "      <td>11856590</td>\n",
       "      <td>1</td>\n",
       "      <td>4.5</td>\n",
       "      <td>0</td>\n",
       "      <td>1</td>\n",
       "      <td>1</td>\n",
       "      <td>1</td>\n",
       "      <td>1</td>\n",
       "      <td>0</td>\n",
       "      <td>0</td>\n",
       "      <td>[07/16/2017, 07/08/2017]</td>\n",
       "      <td>8.0</td>\n",
       "      <td>1326.0</td>\n",
       "      <td>880562</td>\n",
       "      <td>19</td>\n",
       "      <td>1</td>\n",
       "      <td>1372</td>\n",
       "      <td>1.539359</td>\n",
       "      <td>19008.0</td>\n",
       "      <td>0.000010</td>\n",
       "      <td>130.31</td>\n",
       "      <td>1</td>\n",
       "      <td>3254.0</td>\n",
       "      <td>1</td>\n",
       "      <td>0</td>\n",
       "      <td>0</td>\n",
       "      <td>0</td>\n",
       "      <td>0</td>\n",
       "      <td>0</td>\n",
       "      <td>0</td>\n",
       "      <td>0</td>\n",
       "      <td>0</td>\n",
       "      <td>0</td>\n",
       "      <td>0</td>\n",
       "      <td>0</td>\n",
       "      <td>0</td>\n",
       "      <td>0</td>\n",
       "      <td>0</td>\n",
       "      <td>0</td>\n",
       "      <td>0</td>\n",
       "      <td>0</td>\n",
       "      <td>0</td>\n",
       "      <td>0</td>\n",
       "      <td>0</td>\n",
       "      <td>0</td>\n",
       "      <td>0</td>\n",
       "      <td>0</td>\n",
       "      <td>0</td>\n",
       "      <td>0</td>\n",
       "      <td>0</td>\n",
       "      <td>0</td>\n",
       "      <td>0</td>\n",
       "      <td>0</td>\n",
       "      <td>0</td>\n",
       "      <td>0</td>\n",
       "    </tr>\n",
       "    <tr>\n",
       "      <th>3579</th>\n",
       "      <td>id_3579</td>\n",
       "      <td>[Czech, Eastern European, European, Central Eu...</td>\n",
       "      <td>1053.0</td>\n",
       "      <td>2.0</td>\n",
       "      <td>70.0</td>\n",
       "      <td>[['Fun place', 'Typical Czech restaurant'], ['...</td>\n",
       "      <td>274707.0</td>\n",
       "      <td>1929713</td>\n",
       "      <td>0</td>\n",
       "      <td>0.0</td>\n",
       "      <td>0</td>\n",
       "      <td>0</td>\n",
       "      <td>0</td>\n",
       "      <td>4</td>\n",
       "      <td>1</td>\n",
       "      <td>0</td>\n",
       "      <td>0</td>\n",
       "      <td>[01/04/2018, 11/07/2017]</td>\n",
       "      <td>58.0</td>\n",
       "      <td>1154.0</td>\n",
       "      <td>1309277</td>\n",
       "      <td>31</td>\n",
       "      <td>1</td>\n",
       "      <td>1816</td>\n",
       "      <td>0.579846</td>\n",
       "      <td>73710.0</td>\n",
       "      <td>0.000053</td>\n",
       "      <td>95.74</td>\n",
       "      <td>1</td>\n",
       "      <td>4188.0</td>\n",
       "      <td>0</td>\n",
       "      <td>0</td>\n",
       "      <td>0</td>\n",
       "      <td>0</td>\n",
       "      <td>0</td>\n",
       "      <td>0</td>\n",
       "      <td>0</td>\n",
       "      <td>0</td>\n",
       "      <td>0</td>\n",
       "      <td>0</td>\n",
       "      <td>0</td>\n",
       "      <td>0</td>\n",
       "      <td>0</td>\n",
       "      <td>0</td>\n",
       "      <td>0</td>\n",
       "      <td>0</td>\n",
       "      <td>0</td>\n",
       "      <td>0</td>\n",
       "      <td>0</td>\n",
       "      <td>0</td>\n",
       "      <td>0</td>\n",
       "      <td>0</td>\n",
       "      <td>0</td>\n",
       "      <td>0</td>\n",
       "      <td>0</td>\n",
       "      <td>1</td>\n",
       "      <td>0</td>\n",
       "      <td>0</td>\n",
       "      <td>0</td>\n",
       "      <td>0</td>\n",
       "      <td>0</td>\n",
       "      <td>0</td>\n",
       "    </tr>\n",
       "    <tr>\n",
       "      <th>20838</th>\n",
       "      <td>id_3455</td>\n",
       "      <td>[Indian, Vegetarian Friendly, Vegan Options, H...</td>\n",
       "      <td>3456.0</td>\n",
       "      <td>1.0</td>\n",
       "      <td>74.0</td>\n",
       "      <td>[['Great service great food', 'Briyani in Pari...</td>\n",
       "      <td>187147.0</td>\n",
       "      <td>3378206</td>\n",
       "      <td>1</td>\n",
       "      <td>4.0</td>\n",
       "      <td>0</td>\n",
       "      <td>0</td>\n",
       "      <td>0</td>\n",
       "      <td>4</td>\n",
       "      <td>2</td>\n",
       "      <td>0</td>\n",
       "      <td>0</td>\n",
       "      <td>[06/24/2017, 11/28/2016]</td>\n",
       "      <td>208.0</td>\n",
       "      <td>1348.0</td>\n",
       "      <td>2140526</td>\n",
       "      <td>22</td>\n",
       "      <td>1</td>\n",
       "      <td>6108</td>\n",
       "      <td>0.565815</td>\n",
       "      <td>255744.0</td>\n",
       "      <td>0.000035</td>\n",
       "      <td>107.36</td>\n",
       "      <td>1</td>\n",
       "      <td>13986.0</td>\n",
       "      <td>0</td>\n",
       "      <td>0</td>\n",
       "      <td>0</td>\n",
       "      <td>0</td>\n",
       "      <td>0</td>\n",
       "      <td>0</td>\n",
       "      <td>0</td>\n",
       "      <td>0</td>\n",
       "      <td>0</td>\n",
       "      <td>0</td>\n",
       "      <td>0</td>\n",
       "      <td>0</td>\n",
       "      <td>0</td>\n",
       "      <td>0</td>\n",
       "      <td>0</td>\n",
       "      <td>0</td>\n",
       "      <td>0</td>\n",
       "      <td>0</td>\n",
       "      <td>0</td>\n",
       "      <td>0</td>\n",
       "      <td>0</td>\n",
       "      <td>0</td>\n",
       "      <td>0</td>\n",
       "      <td>0</td>\n",
       "      <td>1</td>\n",
       "      <td>0</td>\n",
       "      <td>0</td>\n",
       "      <td>0</td>\n",
       "      <td>0</td>\n",
       "      <td>0</td>\n",
       "      <td>0</td>\n",
       "      <td>0</td>\n",
       "    </tr>\n",
       "    <tr>\n",
       "      <th>9147</th>\n",
       "      <td>id_9147</td>\n",
       "      <td>[Other]</td>\n",
       "      <td>4419.0</td>\n",
       "      <td>0.0</td>\n",
       "      <td>8.0</td>\n",
       "      <td>[['Great place in Gracia', 'A great bar !'], [...</td>\n",
       "      <td>187497.0</td>\n",
       "      <td>12194623</td>\n",
       "      <td>0</td>\n",
       "      <td>0.0</td>\n",
       "      <td>0</td>\n",
       "      <td>1</td>\n",
       "      <td>1</td>\n",
       "      <td>1</td>\n",
       "      <td>1</td>\n",
       "      <td>0</td>\n",
       "      <td>0</td>\n",
       "      <td>[12/05/2017, 11/12/2017]</td>\n",
       "      <td>23.0</td>\n",
       "      <td>1184.0</td>\n",
       "      <td>5575897</td>\n",
       "      <td>30</td>\n",
       "      <td>0</td>\n",
       "      <td>3395</td>\n",
       "      <td>1.301620</td>\n",
       "      <td>35352.0</td>\n",
       "      <td>0.000001</td>\n",
       "      <td>116.13</td>\n",
       "      <td>2</td>\n",
       "      <td>7796.0</td>\n",
       "      <td>0</td>\n",
       "      <td>0</td>\n",
       "      <td>1</td>\n",
       "      <td>0</td>\n",
       "      <td>0</td>\n",
       "      <td>0</td>\n",
       "      <td>0</td>\n",
       "      <td>0</td>\n",
       "      <td>0</td>\n",
       "      <td>0</td>\n",
       "      <td>0</td>\n",
       "      <td>0</td>\n",
       "      <td>0</td>\n",
       "      <td>0</td>\n",
       "      <td>0</td>\n",
       "      <td>0</td>\n",
       "      <td>0</td>\n",
       "      <td>0</td>\n",
       "      <td>0</td>\n",
       "      <td>0</td>\n",
       "      <td>0</td>\n",
       "      <td>0</td>\n",
       "      <td>0</td>\n",
       "      <td>0</td>\n",
       "      <td>0</td>\n",
       "      <td>0</td>\n",
       "      <td>0</td>\n",
       "      <td>0</td>\n",
       "      <td>0</td>\n",
       "      <td>0</td>\n",
       "      <td>0</td>\n",
       "      <td>0</td>\n",
       "    </tr>\n",
       "    <tr>\n",
       "      <th>3102</th>\n",
       "      <td>id_3102</td>\n",
       "      <td>[Mediterranean, European, Spanish, Vegetarian ...</td>\n",
       "      <td>107.0</td>\n",
       "      <td>3.0</td>\n",
       "      <td>878.0</td>\n",
       "      <td>[['spectacular', 'Absolutely astonishing!'], [...</td>\n",
       "      <td>187497.0</td>\n",
       "      <td>809578</td>\n",
       "      <td>0</td>\n",
       "      <td>0.0</td>\n",
       "      <td>0</td>\n",
       "      <td>0</td>\n",
       "      <td>0</td>\n",
       "      <td>6</td>\n",
       "      <td>5</td>\n",
       "      <td>0</td>\n",
       "      <td>0</td>\n",
       "      <td>[01/07/2018, 01/01/2018]</td>\n",
       "      <td>6.0</td>\n",
       "      <td>1151.0</td>\n",
       "      <td>5575897</td>\n",
       "      <td>30</td>\n",
       "      <td>0</td>\n",
       "      <td>3395</td>\n",
       "      <td>0.031517</td>\n",
       "      <td>93946.0</td>\n",
       "      <td>0.000157</td>\n",
       "      <td>116.13</td>\n",
       "      <td>2</td>\n",
       "      <td>7796.0</td>\n",
       "      <td>0</td>\n",
       "      <td>0</td>\n",
       "      <td>1</td>\n",
       "      <td>0</td>\n",
       "      <td>0</td>\n",
       "      <td>0</td>\n",
       "      <td>0</td>\n",
       "      <td>0</td>\n",
       "      <td>0</td>\n",
       "      <td>0</td>\n",
       "      <td>0</td>\n",
       "      <td>0</td>\n",
       "      <td>0</td>\n",
       "      <td>0</td>\n",
       "      <td>0</td>\n",
       "      <td>0</td>\n",
       "      <td>0</td>\n",
       "      <td>0</td>\n",
       "      <td>0</td>\n",
       "      <td>0</td>\n",
       "      <td>0</td>\n",
       "      <td>0</td>\n",
       "      <td>0</td>\n",
       "      <td>0</td>\n",
       "      <td>0</td>\n",
       "      <td>0</td>\n",
       "      <td>0</td>\n",
       "      <td>0</td>\n",
       "      <td>0</td>\n",
       "      <td>0</td>\n",
       "      <td>0</td>\n",
       "      <td>0</td>\n",
       "    </tr>\n",
       "  </tbody>\n",
       "</table>\n",
       "</div>"
      ],
      "text/plain": [
       "       rest_id                                      cuisine_style  ranking  \\\n",
       "29742  id_2107                                            [Other]   2112.0   \n",
       "3579   id_3579  [Czech, Eastern European, European, Central Eu...   1053.0   \n",
       "20838  id_3455  [Indian, Vegetarian Friendly, Vegan Options, H...   3456.0   \n",
       "9147   id_9147                                            [Other]   4419.0   \n",
       "3102   id_3102  [Mediterranean, European, Spanish, Vegetarian ...    107.0   \n",
       "\n",
       "       price_range  number_of_rev  \\\n",
       "29742          0.0            9.0   \n",
       "3579           2.0           70.0   \n",
       "20838          1.0           74.0   \n",
       "9147           0.0            8.0   \n",
       "3102           3.0          878.0   \n",
       "\n",
       "                                                 reviews    url_ta     id_ta  \\\n",
       "29742  [['A little peice of Italia in Amsterdam', 'Fa...  188590.0  11856590   \n",
       "3579   [['Fun place', 'Typical Czech restaurant'], ['...  274707.0   1929713   \n",
       "20838  [['Great service great food', 'Briyani in Pari...  187147.0   3378206   \n",
       "9147   [['Great place in Gracia', 'A great bar !'], [...  187497.0  12194623   \n",
       "3102   [['spectacular', 'Absolutely astonishing!'], [...  187497.0    809578   \n",
       "\n",
       "       sample  rating  number_of_rev_is_NAN  price_range_is_NAN  \\\n",
       "29742       1     4.5                     0                   1   \n",
       "3579        0     0.0                     0                   0   \n",
       "20838       1     4.0                     0                   0   \n",
       "9147        0     0.0                     0                   1   \n",
       "3102        0     0.0                     0                   0   \n",
       "\n",
       "       cuisine_style_is_NAN  number_of_cuisines  most_common_cuisine  \\\n",
       "29742                     1                   1                    1   \n",
       "3579                      0                   4                    1   \n",
       "20838                     0                   4                    2   \n",
       "9147                      1                   1                    1   \n",
       "3102                      0                   6                    5   \n",
       "\n",
       "       top_unique_cuisine  review_is_NAN            date_of_review  \\\n",
       "29742                   0              0  [07/16/2017, 07/08/2017]   \n",
       "3579                    0              0  [01/04/2018, 11/07/2017]   \n",
       "20838                   0              0  [06/24/2017, 11/28/2016]   \n",
       "9147                    0              0  [12/05/2017, 11/12/2017]   \n",
       "3102                    0              0  [01/07/2018, 01/01/2018]   \n",
       "\n",
       "       days_between_reviews  days_till_now  population  purchasing_power  \\\n",
       "29742                   8.0         1326.0      880562                19   \n",
       "3579                   58.0         1154.0     1309277                31   \n",
       "20838                 208.0         1348.0     2140526                22   \n",
       "9147                   23.0         1184.0     5575897                30   \n",
       "3102                    6.0         1151.0     5575897                30   \n",
       "\n",
       "       is_capital  rest_city_count  city_ranking  ranking_rev_count  \\\n",
       "29742           1             1372      1.539359            19008.0   \n",
       "3579            1             1816      0.579846            73710.0   \n",
       "20838           1             6108      0.565815           255744.0   \n",
       "9147            0             3395      1.301620            35352.0   \n",
       "3102            0             3395      0.031517            93946.0   \n",
       "\n",
       "       reviews_per_city_pop  mean_rev_per_city  tourist_attract  \\\n",
       "29742              0.000010             130.31                1   \n",
       "3579               0.000053              95.74                1   \n",
       "20838              0.000035             107.36                1   \n",
       "9147               0.000001             116.13                2   \n",
       "3102               0.000157             116.13                2   \n",
       "\n",
       "       rating_max_per_city  city_Amsterdam  city_Athens  city_Barcelona  \\\n",
       "29742               3254.0               1            0               0   \n",
       "3579                4188.0               0            0               0   \n",
       "20838              13986.0               0            0               0   \n",
       "9147                7796.0               0            0               1   \n",
       "3102                7796.0               0            0               1   \n",
       "\n",
       "       city_Berlin  city_Bratislava  city_Brussels  city_Budapest  \\\n",
       "29742            0                0              0              0   \n",
       "3579             0                0              0              0   \n",
       "20838            0                0              0              0   \n",
       "9147             0                0              0              0   \n",
       "3102             0                0              0              0   \n",
       "\n",
       "       city_Copenhagen  city_Dublin  city_Edinburgh  city_Geneva  \\\n",
       "29742                0            0               0            0   \n",
       "3579                 0            0               0            0   \n",
       "20838                0            0               0            0   \n",
       "9147                 0            0               0            0   \n",
       "3102                 0            0               0            0   \n",
       "\n",
       "       city_Hamburg  city_Helsinki  city_Krakow  city_Lisbon  city_Ljubljana  \\\n",
       "29742             0              0            0            0               0   \n",
       "3579              0              0            0            0               0   \n",
       "20838             0              0            0            0               0   \n",
       "9147              0              0            0            0               0   \n",
       "3102              0              0            0            0               0   \n",
       "\n",
       "       city_London  city_Luxembourg  city_Lyon  city_Madrid  city_Milan  \\\n",
       "29742            0                0          0            0           0   \n",
       "3579             0                0          0            0           0   \n",
       "20838            0                0          0            0           0   \n",
       "9147             0                0          0            0           0   \n",
       "3102             0                0          0            0           0   \n",
       "\n",
       "       city_Munich  city_Oporto  city_Oslo  city_Paris  city_Prague  \\\n",
       "29742            0            0          0           0            0   \n",
       "3579             0            0          0           0            1   \n",
       "20838            0            0          0           1            0   \n",
       "9147             0            0          0           0            0   \n",
       "3102             0            0          0           0            0   \n",
       "\n",
       "       city_Rome  city_Stockholm  city_Vienna  city_Warsaw  city_Zurich  \\\n",
       "29742          0               0            0            0            0   \n",
       "3579           0               0            0            0            0   \n",
       "20838          0               0            0            0            0   \n",
       "9147           0               0            0            0            0   \n",
       "3102           0               0            0            0            0   \n",
       "\n",
       "       city_nan  \n",
       "29742         0  \n",
       "3579          0  \n",
       "20838         0  \n",
       "9147          0  \n",
       "3102          0  "
      ]
     },
     "execution_count": 267,
     "metadata": {},
     "output_type": "execute_result"
    }
   ],
   "source": [
    "pd.set_option('display.max_rows', 50)  # показывать больше строк\n",
    "pd.set_option('display.max_columns', 100)  # показывать больше колонок\n",
    "\n",
    "data.sample(5)"
   ]
  },
  {
   "cell_type": "code",
   "execution_count": 268,
   "metadata": {},
   "outputs": [],
   "source": [
    "df_preproc = data.drop(\n",
    "    ['rest_id', 'cuisine_style', 'reviews', 'date_of_review',\n",
    "    'number_of_rev_is_NAN', 'review_is_NAN', 'is_capital'], axis=1)"
   ]
  },
  {
   "cell_type": "code",
   "execution_count": 269,
   "metadata": {},
   "outputs": [
    {
     "name": "stdout",
     "output_type": "stream",
     "text": [
      "<class 'pandas.core.frame.DataFrame'>\n",
      "RangeIndex: 50000 entries, 0 to 49999\n",
      "Data columns (total 55 columns):\n",
      " #   Column                Non-Null Count  Dtype  \n",
      "---  ------                --------------  -----  \n",
      " 0   ranking               50000 non-null  float64\n",
      " 1   price_range           50000 non-null  float64\n",
      " 2   number_of_rev         50000 non-null  float64\n",
      " 3   url_ta                50000 non-null  float64\n",
      " 4   id_ta                 50000 non-null  int64  \n",
      " 5   sample                50000 non-null  int64  \n",
      " 6   rating                50000 non-null  float64\n",
      " 7   price_range_is_NAN    50000 non-null  uint8  \n",
      " 8   cuisine_style_is_NAN  50000 non-null  uint8  \n",
      " 9   number_of_cuisines    50000 non-null  int64  \n",
      " 10  most_common_cuisine   50000 non-null  int64  \n",
      " 11  top_unique_cuisine    50000 non-null  int64  \n",
      " 12  days_between_reviews  50000 non-null  float64\n",
      " 13  days_till_now         50000 non-null  float64\n",
      " 14  population            50000 non-null  int64  \n",
      " 15  purchasing_power      50000 non-null  int64  \n",
      " 16  rest_city_count       50000 non-null  int64  \n",
      " 17  city_ranking          50000 non-null  float64\n",
      " 18  ranking_rev_count     50000 non-null  float64\n",
      " 19  reviews_per_city_pop  50000 non-null  float64\n",
      " 20  mean_rev_per_city     50000 non-null  float64\n",
      " 21  tourist_attract       50000 non-null  int64  \n",
      " 22  rating_max_per_city   50000 non-null  float64\n",
      " 23  city_Amsterdam        50000 non-null  uint8  \n",
      " 24  city_Athens           50000 non-null  uint8  \n",
      " 25  city_Barcelona        50000 non-null  uint8  \n",
      " 26  city_Berlin           50000 non-null  uint8  \n",
      " 27  city_Bratislava       50000 non-null  uint8  \n",
      " 28  city_Brussels         50000 non-null  uint8  \n",
      " 29  city_Budapest         50000 non-null  uint8  \n",
      " 30  city_Copenhagen       50000 non-null  uint8  \n",
      " 31  city_Dublin           50000 non-null  uint8  \n",
      " 32  city_Edinburgh        50000 non-null  uint8  \n",
      " 33  city_Geneva           50000 non-null  uint8  \n",
      " 34  city_Hamburg          50000 non-null  uint8  \n",
      " 35  city_Helsinki         50000 non-null  uint8  \n",
      " 36  city_Krakow           50000 non-null  uint8  \n",
      " 37  city_Lisbon           50000 non-null  uint8  \n",
      " 38  city_Ljubljana        50000 non-null  uint8  \n",
      " 39  city_London           50000 non-null  uint8  \n",
      " 40  city_Luxembourg       50000 non-null  uint8  \n",
      " 41  city_Lyon             50000 non-null  uint8  \n",
      " 42  city_Madrid           50000 non-null  uint8  \n",
      " 43  city_Milan            50000 non-null  uint8  \n",
      " 44  city_Munich           50000 non-null  uint8  \n",
      " 45  city_Oporto           50000 non-null  uint8  \n",
      " 46  city_Oslo             50000 non-null  uint8  \n",
      " 47  city_Paris            50000 non-null  uint8  \n",
      " 48  city_Prague           50000 non-null  uint8  \n",
      " 49  city_Rome             50000 non-null  uint8  \n",
      " 50  city_Stockholm        50000 non-null  uint8  \n",
      " 51  city_Vienna           50000 non-null  uint8  \n",
      " 52  city_Warsaw           50000 non-null  uint8  \n",
      " 53  city_Zurich           50000 non-null  uint8  \n",
      " 54  city_nan              50000 non-null  uint8  \n",
      "dtypes: float64(12), int64(9), uint8(34)\n",
      "memory usage: 9.6 MB\n"
     ]
    }
   ],
   "source": [
    "df_preproc.info()"
   ]
  },
  {
   "cell_type": "code",
   "execution_count": 270,
   "metadata": {},
   "outputs": [],
   "source": [
    "# Теперь выделим тестовую часть\n",
    "train_data = df_preproc.query('sample == 1').drop(['sample'], axis=1)\n",
    "test_data = df_preproc.query('sample == 0').drop(['sample'], axis=1)\n",
    "\n",
    "y = train_data.rating.values \n",
    "X = train_data.drop(['rating'], axis=1)"
   ]
  },
  {
   "cell_type": "markdown",
   "metadata": {},
   "source": [
    "Перед отправкой наших данных на обучение, разделим их на еще один тест и трейн для валидации, чтобы проверить, как хорошо наша модель работает."
   ]
  },
  {
   "cell_type": "code",
   "execution_count": 271,
   "metadata": {},
   "outputs": [
    {
     "data": {
      "text/plain": [
       "((10000, 54), (40000, 54), (40000, 53), (32000, 53), (8000, 53))"
      ]
     },
     "execution_count": 271,
     "metadata": {},
     "output_type": "execute_result"
    }
   ],
   "source": [
    "# Воспользуемся специальной функцие train_test_split для разбивки тестовых данных\n",
    "# выделим 20% данных на валидацию (параметр test_size)\n",
    "\n",
    "X_train, X_test, y_train, y_test = train_test_split(X, y, test_size=0.2, random_state=RANDOM_SEED)\n",
    "\n",
    "test_data.shape, train_data.shape, X.shape, X_train.shape, X_test.shape"
   ]
  },
  {
   "cell_type": "markdown",
   "metadata": {},
   "source": [
    "## Model"
   ]
  },
  {
   "cell_type": "code",
   "execution_count": 272,
   "metadata": {},
   "outputs": [
    {
     "name": "stderr",
     "output_type": "stream",
     "text": [
      "[Parallel(n_jobs=-1)]: Using backend ThreadingBackend with 8 concurrent workers.\n",
      "[Parallel(n_jobs=-1)]: Done  34 tasks      | elapsed:    1.8s\n",
      "[Parallel(n_jobs=-1)]: Done 100 out of 100 | elapsed:    4.8s finished\n",
      "[Parallel(n_jobs=8)]: Using backend ThreadingBackend with 8 concurrent workers.\n",
      "[Parallel(n_jobs=8)]: Done  34 tasks      | elapsed:    0.0s\n",
      "[Parallel(n_jobs=8)]: Done 100 out of 100 | elapsed:    0.0s finished\n"
     ]
    }
   ],
   "source": [
    "# Создание модели\n",
    "model = RandomForestRegressor(n_estimators=100, verbose=1, n_jobs=-1, random_state=RANDOM_SEED)\n",
    "\n",
    "# Обучаем модель на тестовом наборе данных\n",
    "model.fit(X_train, y_train)\n",
    "\n",
    "# Используем обученную модель для предсказания рейтинга ресторанов в тестовой выборке \n",
    "# и записываем предсказанные значения записываем в переменную y_pred\n",
    "y_pred = model.predict(X_test)"
   ]
  },
  {
   "cell_type": "code",
   "execution_count": 273,
   "metadata": {},
   "outputs": [],
   "source": [
    "# Так как признак рейтинга имеет шаг 0.5, округляем предсказание.\n",
    "y_pred = np.round(y_pred * 2) / 2"
   ]
  },
  {
   "cell_type": "code",
   "execution_count": 274,
   "metadata": {},
   "outputs": [
    {
     "name": "stdout",
     "output_type": "stream",
     "text": [
      "MAE: 0.162125\n"
     ]
    }
   ],
   "source": [
    "# Сравниваем предсказанные значения (y_pred) с реальными (y_test) и смотрим, насколько они в среднем отличаются\n",
    "# Метрика называется Mean Absolute Error (MAE) и показывает среднее отклонение предсказанных значений от фактических.\n",
    "\n",
    "print('MAE:', metrics.mean_absolute_error(y_test, y_pred))"
   ]
  },
  {
   "cell_type": "code",
   "execution_count": 275,
   "metadata": {},
   "outputs": [
    {
     "data": {
      "text/plain": [
       "<matplotlib.axes._subplots.AxesSubplot at 0x219b4cddeb0>"
      ]
     },
     "execution_count": 275,
     "metadata": {},
     "output_type": "execute_result"
    },
    {
     "data": {
      "image/png": "[encoded data removed]",
      "text/plain": [
       "<Figure size 720x720 with 1 Axes>"
      ]
     },
     "metadata": {
      "needs_background": "light"
     },
     "output_type": "display_data"
    }
   ],
   "source": [
    "# Посмотрим на самые важные признаки для модели\n",
    "\n",
    "plt.rcParams['figure.figsize'] = (10,10)\n",
    "feat_importances = pd.Series(model.feature_importances_, index=X.columns)\n",
    "feat_importances.nlargest(30).plot(kind='barh')"
   ]
  },
  {
   "cell_type": "markdown",
   "metadata": {},
   "source": [
    "## Submission"
   ]
  },
  {
   "cell_type": "code",
   "execution_count": 276,
   "metadata": {},
   "outputs": [
    {
     "data": {
      "text/html": [
       "<div>\n",
       "<style scoped>\n",
       "    .dataframe tbody tr th:only-of-type {\n",
       "        vertical-align: middle;\n",
       "    }\n",
       "\n",
       "    .dataframe tbody tr th {\n",
       "        vertical-align: top;\n",
       "    }\n",
       "\n",
       "    .dataframe thead th {\n",
       "        text-align: right;\n",
       "    }\n",
       "</style>\n",
       "<table border=\"1\" class=\"dataframe\">\n",
       "  <thead>\n",
       "    <tr style=\"text-align: right;\">\n",
       "      <th></th>\n",
       "      <th>ranking</th>\n",
       "      <th>price_range</th>\n",
       "      <th>number_of_rev</th>\n",
       "      <th>url_ta</th>\n",
       "      <th>id_ta</th>\n",
       "      <th>rating</th>\n",
       "      <th>price_range_is_NAN</th>\n",
       "      <th>cuisine_style_is_NAN</th>\n",
       "      <th>number_of_cuisines</th>\n",
       "      <th>most_common_cuisine</th>\n",
       "      <th>top_unique_cuisine</th>\n",
       "      <th>days_between_reviews</th>\n",
       "      <th>days_till_now</th>\n",
       "      <th>population</th>\n",
       "      <th>purchasing_power</th>\n",
       "      <th>rest_city_count</th>\n",
       "      <th>city_ranking</th>\n",
       "      <th>ranking_rev_count</th>\n",
       "      <th>reviews_per_city_pop</th>\n",
       "      <th>mean_rev_per_city</th>\n",
       "      <th>tourist_attract</th>\n",
       "      <th>rating_max_per_city</th>\n",
       "      <th>city_Amsterdam</th>\n",
       "      <th>city_Athens</th>\n",
       "      <th>city_Barcelona</th>\n",
       "      <th>city_Berlin</th>\n",
       "      <th>city_Bratislava</th>\n",
       "      <th>city_Brussels</th>\n",
       "      <th>city_Budapest</th>\n",
       "      <th>city_Copenhagen</th>\n",
       "      <th>city_Dublin</th>\n",
       "      <th>city_Edinburgh</th>\n",
       "      <th>city_Geneva</th>\n",
       "      <th>city_Hamburg</th>\n",
       "      <th>city_Helsinki</th>\n",
       "      <th>city_Krakow</th>\n",
       "      <th>city_Lisbon</th>\n",
       "      <th>city_Ljubljana</th>\n",
       "      <th>city_London</th>\n",
       "      <th>city_Luxembourg</th>\n",
       "      <th>city_Lyon</th>\n",
       "      <th>city_Madrid</th>\n",
       "      <th>city_Milan</th>\n",
       "      <th>city_Munich</th>\n",
       "      <th>city_Oporto</th>\n",
       "      <th>city_Oslo</th>\n",
       "      <th>city_Paris</th>\n",
       "      <th>city_Prague</th>\n",
       "      <th>city_Rome</th>\n",
       "      <th>city_Stockholm</th>\n",
       "      <th>city_Vienna</th>\n",
       "      <th>city_Warsaw</th>\n",
       "      <th>city_Zurich</th>\n",
       "      <th>city_nan</th>\n",
       "    </tr>\n",
       "  </thead>\n",
       "  <tbody>\n",
       "    <tr>\n",
       "      <th>5852</th>\n",
       "      <td>819.0</td>\n",
       "      <td>2.0</td>\n",
       "      <td>1200.0</td>\n",
       "      <td>187147.0</td>\n",
       "      <td>714904</td>\n",
       "      <td>0.0</td>\n",
       "      <td>0</td>\n",
       "      <td>0</td>\n",
       "      <td>5</td>\n",
       "      <td>4</td>\n",
       "      <td>0</td>\n",
       "      <td>1.0</td>\n",
       "      <td>1154.000000</td>\n",
       "      <td>2140526</td>\n",
       "      <td>22</td>\n",
       "      <td>6108</td>\n",
       "      <td>0.134086</td>\n",
       "      <td>982800.0</td>\n",
       "      <td>0.000561</td>\n",
       "      <td>107.36</td>\n",
       "      <td>1</td>\n",
       "      <td>13986.0</td>\n",
       "      <td>0</td>\n",
       "      <td>0</td>\n",
       "      <td>0</td>\n",
       "      <td>0</td>\n",
       "      <td>0</td>\n",
       "      <td>0</td>\n",
       "      <td>0</td>\n",
       "      <td>0</td>\n",
       "      <td>0</td>\n",
       "      <td>0</td>\n",
       "      <td>0</td>\n",
       "      <td>0</td>\n",
       "      <td>0</td>\n",
       "      <td>0</td>\n",
       "      <td>0</td>\n",
       "      <td>0</td>\n",
       "      <td>0</td>\n",
       "      <td>0</td>\n",
       "      <td>0</td>\n",
       "      <td>0</td>\n",
       "      <td>0</td>\n",
       "      <td>0</td>\n",
       "      <td>0</td>\n",
       "      <td>0</td>\n",
       "      <td>1</td>\n",
       "      <td>0</td>\n",
       "      <td>0</td>\n",
       "      <td>0</td>\n",
       "      <td>0</td>\n",
       "      <td>0</td>\n",
       "      <td>0</td>\n",
       "      <td>0</td>\n",
       "    </tr>\n",
       "    <tr>\n",
       "      <th>6640</th>\n",
       "      <td>1295.0</td>\n",
       "      <td>2.0</td>\n",
       "      <td>18.0</td>\n",
       "      <td>189852.0</td>\n",
       "      <td>8479516</td>\n",
       "      <td>0.0</td>\n",
       "      <td>0</td>\n",
       "      <td>0</td>\n",
       "      <td>5</td>\n",
       "      <td>1</td>\n",
       "      <td>0</td>\n",
       "      <td>86.0</td>\n",
       "      <td>1290.000000</td>\n",
       "      <td>2352549</td>\n",
       "      <td>13</td>\n",
       "      <td>1033</td>\n",
       "      <td>1.253630</td>\n",
       "      <td>23310.0</td>\n",
       "      <td>0.000008</td>\n",
       "      <td>68.65</td>\n",
       "      <td>4</td>\n",
       "      <td>2464.0</td>\n",
       "      <td>0</td>\n",
       "      <td>0</td>\n",
       "      <td>0</td>\n",
       "      <td>0</td>\n",
       "      <td>0</td>\n",
       "      <td>0</td>\n",
       "      <td>0</td>\n",
       "      <td>0</td>\n",
       "      <td>0</td>\n",
       "      <td>0</td>\n",
       "      <td>0</td>\n",
       "      <td>0</td>\n",
       "      <td>0</td>\n",
       "      <td>0</td>\n",
       "      <td>0</td>\n",
       "      <td>0</td>\n",
       "      <td>0</td>\n",
       "      <td>0</td>\n",
       "      <td>0</td>\n",
       "      <td>0</td>\n",
       "      <td>0</td>\n",
       "      <td>0</td>\n",
       "      <td>0</td>\n",
       "      <td>0</td>\n",
       "      <td>0</td>\n",
       "      <td>0</td>\n",
       "      <td>0</td>\n",
       "      <td>1</td>\n",
       "      <td>0</td>\n",
       "      <td>0</td>\n",
       "      <td>0</td>\n",
       "      <td>0</td>\n",
       "    </tr>\n",
       "    <tr>\n",
       "      <th>5584</th>\n",
       "      <td>534.0</td>\n",
       "      <td>2.0</td>\n",
       "      <td>16.0</td>\n",
       "      <td>190479.0</td>\n",
       "      <td>1746540</td>\n",
       "      <td>0.0</td>\n",
       "      <td>0</td>\n",
       "      <td>0</td>\n",
       "      <td>1</td>\n",
       "      <td>0</td>\n",
       "      <td>0</td>\n",
       "      <td>370.0</td>\n",
       "      <td>1176.000000</td>\n",
       "      <td>681067</td>\n",
       "      <td>17</td>\n",
       "      <td>488</td>\n",
       "      <td>1.094262</td>\n",
       "      <td>8544.0</td>\n",
       "      <td>0.000023</td>\n",
       "      <td>94.84</td>\n",
       "      <td>5</td>\n",
       "      <td>1137.0</td>\n",
       "      <td>0</td>\n",
       "      <td>0</td>\n",
       "      <td>0</td>\n",
       "      <td>0</td>\n",
       "      <td>0</td>\n",
       "      <td>0</td>\n",
       "      <td>0</td>\n",
       "      <td>0</td>\n",
       "      <td>0</td>\n",
       "      <td>0</td>\n",
       "      <td>0</td>\n",
       "      <td>0</td>\n",
       "      <td>0</td>\n",
       "      <td>0</td>\n",
       "      <td>0</td>\n",
       "      <td>0</td>\n",
       "      <td>0</td>\n",
       "      <td>0</td>\n",
       "      <td>0</td>\n",
       "      <td>0</td>\n",
       "      <td>0</td>\n",
       "      <td>0</td>\n",
       "      <td>0</td>\n",
       "      <td>1</td>\n",
       "      <td>0</td>\n",
       "      <td>0</td>\n",
       "      <td>0</td>\n",
       "      <td>0</td>\n",
       "      <td>0</td>\n",
       "      <td>0</td>\n",
       "      <td>0</td>\n",
       "      <td>0</td>\n",
       "    </tr>\n",
       "    <tr>\n",
       "      <th>9408</th>\n",
       "      <td>2970.0</td>\n",
       "      <td>2.0</td>\n",
       "      <td>616.0</td>\n",
       "      <td>186338.0</td>\n",
       "      <td>1016032</td>\n",
       "      <td>0.0</td>\n",
       "      <td>0</td>\n",
       "      <td>0</td>\n",
       "      <td>5</td>\n",
       "      <td>3</td>\n",
       "      <td>0</td>\n",
       "      <td>88.0</td>\n",
       "      <td>1186.000000</td>\n",
       "      <td>8982458</td>\n",
       "      <td>24</td>\n",
       "      <td>7193</td>\n",
       "      <td>0.412901</td>\n",
       "      <td>1829520.0</td>\n",
       "      <td>0.000069</td>\n",
       "      <td>117.09</td>\n",
       "      <td>1</td>\n",
       "      <td>16444.0</td>\n",
       "      <td>0</td>\n",
       "      <td>0</td>\n",
       "      <td>0</td>\n",
       "      <td>0</td>\n",
       "      <td>0</td>\n",
       "      <td>0</td>\n",
       "      <td>0</td>\n",
       "      <td>0</td>\n",
       "      <td>0</td>\n",
       "      <td>0</td>\n",
       "      <td>0</td>\n",
       "      <td>0</td>\n",
       "      <td>0</td>\n",
       "      <td>0</td>\n",
       "      <td>0</td>\n",
       "      <td>0</td>\n",
       "      <td>1</td>\n",
       "      <td>0</td>\n",
       "      <td>0</td>\n",
       "      <td>0</td>\n",
       "      <td>0</td>\n",
       "      <td>0</td>\n",
       "      <td>0</td>\n",
       "      <td>0</td>\n",
       "      <td>0</td>\n",
       "      <td>0</td>\n",
       "      <td>0</td>\n",
       "      <td>0</td>\n",
       "      <td>0</td>\n",
       "      <td>0</td>\n",
       "      <td>0</td>\n",
       "      <td>0</td>\n",
       "    </tr>\n",
       "    <tr>\n",
       "      <th>6721</th>\n",
       "      <td>801.0</td>\n",
       "      <td>2.0</td>\n",
       "      <td>46.0</td>\n",
       "      <td>186525.0</td>\n",
       "      <td>4026569</td>\n",
       "      <td>0.0</td>\n",
       "      <td>0</td>\n",
       "      <td>0</td>\n",
       "      <td>3</td>\n",
       "      <td>1</td>\n",
       "      <td>0</td>\n",
       "      <td>14.0</td>\n",
       "      <td>1201.000000</td>\n",
       "      <td>524964</td>\n",
       "      <td>16</td>\n",
       "      <td>745</td>\n",
       "      <td>1.075168</td>\n",
       "      <td>36846.0</td>\n",
       "      <td>0.000088</td>\n",
       "      <td>203.46</td>\n",
       "      <td>5</td>\n",
       "      <td>1766.0</td>\n",
       "      <td>0</td>\n",
       "      <td>0</td>\n",
       "      <td>0</td>\n",
       "      <td>0</td>\n",
       "      <td>0</td>\n",
       "      <td>0</td>\n",
       "      <td>0</td>\n",
       "      <td>0</td>\n",
       "      <td>0</td>\n",
       "      <td>1</td>\n",
       "      <td>0</td>\n",
       "      <td>0</td>\n",
       "      <td>0</td>\n",
       "      <td>0</td>\n",
       "      <td>0</td>\n",
       "      <td>0</td>\n",
       "      <td>0</td>\n",
       "      <td>0</td>\n",
       "      <td>0</td>\n",
       "      <td>0</td>\n",
       "      <td>0</td>\n",
       "      <td>0</td>\n",
       "      <td>0</td>\n",
       "      <td>0</td>\n",
       "      <td>0</td>\n",
       "      <td>0</td>\n",
       "      <td>0</td>\n",
       "      <td>0</td>\n",
       "      <td>0</td>\n",
       "      <td>0</td>\n",
       "      <td>0</td>\n",
       "      <td>0</td>\n",
       "    </tr>\n",
       "    <tr>\n",
       "      <th>9742</th>\n",
       "      <td>1733.0</td>\n",
       "      <td>2.0</td>\n",
       "      <td>82.0</td>\n",
       "      <td>187323.0</td>\n",
       "      <td>10028106</td>\n",
       "      <td>0.0</td>\n",
       "      <td>0</td>\n",
       "      <td>0</td>\n",
       "      <td>4</td>\n",
       "      <td>4</td>\n",
       "      <td>0</td>\n",
       "      <td>5.0</td>\n",
       "      <td>1171.000000</td>\n",
       "      <td>3769495</td>\n",
       "      <td>8</td>\n",
       "      <td>2705</td>\n",
       "      <td>0.640665</td>\n",
       "      <td>142106.0</td>\n",
       "      <td>0.000022</td>\n",
       "      <td>55.66</td>\n",
       "      <td>2</td>\n",
       "      <td>6372.0</td>\n",
       "      <td>0</td>\n",
       "      <td>0</td>\n",
       "      <td>0</td>\n",
       "      <td>1</td>\n",
       "      <td>0</td>\n",
       "      <td>0</td>\n",
       "      <td>0</td>\n",
       "      <td>0</td>\n",
       "      <td>0</td>\n",
       "      <td>0</td>\n",
       "      <td>0</td>\n",
       "      <td>0</td>\n",
       "      <td>0</td>\n",
       "      <td>0</td>\n",
       "      <td>0</td>\n",
       "      <td>0</td>\n",
       "      <td>0</td>\n",
       "      <td>0</td>\n",
       "      <td>0</td>\n",
       "      <td>0</td>\n",
       "      <td>0</td>\n",
       "      <td>0</td>\n",
       "      <td>0</td>\n",
       "      <td>0</td>\n",
       "      <td>0</td>\n",
       "      <td>0</td>\n",
       "      <td>0</td>\n",
       "      <td>0</td>\n",
       "      <td>0</td>\n",
       "      <td>0</td>\n",
       "      <td>0</td>\n",
       "      <td>0</td>\n",
       "    </tr>\n",
       "    <tr>\n",
       "      <th>2133</th>\n",
       "      <td>12566.0</td>\n",
       "      <td>0.0</td>\n",
       "      <td>0.0</td>\n",
       "      <td>186338.0</td>\n",
       "      <td>5814521</td>\n",
       "      <td>0.0</td>\n",
       "      <td>1</td>\n",
       "      <td>1</td>\n",
       "      <td>1</td>\n",
       "      <td>1</td>\n",
       "      <td>0</td>\n",
       "      <td>49.0</td>\n",
       "      <td>1391.871276</td>\n",
       "      <td>8982458</td>\n",
       "      <td>24</td>\n",
       "      <td>7193</td>\n",
       "      <td>1.746976</td>\n",
       "      <td>0.0</td>\n",
       "      <td>0.000000</td>\n",
       "      <td>117.09</td>\n",
       "      <td>1</td>\n",
       "      <td>16444.0</td>\n",
       "      <td>0</td>\n",
       "      <td>0</td>\n",
       "      <td>0</td>\n",
       "      <td>0</td>\n",
       "      <td>0</td>\n",
       "      <td>0</td>\n",
       "      <td>0</td>\n",
       "      <td>0</td>\n",
       "      <td>0</td>\n",
       "      <td>0</td>\n",
       "      <td>0</td>\n",
       "      <td>0</td>\n",
       "      <td>0</td>\n",
       "      <td>0</td>\n",
       "      <td>0</td>\n",
       "      <td>0</td>\n",
       "      <td>1</td>\n",
       "      <td>0</td>\n",
       "      <td>0</td>\n",
       "      <td>0</td>\n",
       "      <td>0</td>\n",
       "      <td>0</td>\n",
       "      <td>0</td>\n",
       "      <td>0</td>\n",
       "      <td>0</td>\n",
       "      <td>0</td>\n",
       "      <td>0</td>\n",
       "      <td>0</td>\n",
       "      <td>0</td>\n",
       "      <td>0</td>\n",
       "      <td>0</td>\n",
       "      <td>0</td>\n",
       "    </tr>\n",
       "    <tr>\n",
       "      <th>4478</th>\n",
       "      <td>3006.0</td>\n",
       "      <td>0.0</td>\n",
       "      <td>28.0</td>\n",
       "      <td>190454.0</td>\n",
       "      <td>798196</td>\n",
       "      <td>0.0</td>\n",
       "      <td>1</td>\n",
       "      <td>0</td>\n",
       "      <td>4</td>\n",
       "      <td>0</td>\n",
       "      <td>0</td>\n",
       "      <td>711.0</td>\n",
       "      <td>1558.000000</td>\n",
       "      <td>1867582</td>\n",
       "      <td>21</td>\n",
       "      <td>1443</td>\n",
       "      <td>2.083160</td>\n",
       "      <td>84168.0</td>\n",
       "      <td>0.000015</td>\n",
       "      <td>67.73</td>\n",
       "      <td>2</td>\n",
       "      <td>3444.0</td>\n",
       "      <td>0</td>\n",
       "      <td>0</td>\n",
       "      <td>0</td>\n",
       "      <td>0</td>\n",
       "      <td>0</td>\n",
       "      <td>0</td>\n",
       "      <td>0</td>\n",
       "      <td>0</td>\n",
       "      <td>0</td>\n",
       "      <td>0</td>\n",
       "      <td>0</td>\n",
       "      <td>0</td>\n",
       "      <td>0</td>\n",
       "      <td>0</td>\n",
       "      <td>0</td>\n",
       "      <td>0</td>\n",
       "      <td>0</td>\n",
       "      <td>0</td>\n",
       "      <td>0</td>\n",
       "      <td>0</td>\n",
       "      <td>0</td>\n",
       "      <td>0</td>\n",
       "      <td>0</td>\n",
       "      <td>0</td>\n",
       "      <td>0</td>\n",
       "      <td>0</td>\n",
       "      <td>0</td>\n",
       "      <td>0</td>\n",
       "      <td>1</td>\n",
       "      <td>0</td>\n",
       "      <td>0</td>\n",
       "      <td>0</td>\n",
       "    </tr>\n",
       "    <tr>\n",
       "      <th>2918</th>\n",
       "      <td>1745.0</td>\n",
       "      <td>2.0</td>\n",
       "      <td>44.0</td>\n",
       "      <td>187849.0</td>\n",
       "      <td>12320420</td>\n",
       "      <td>0.0</td>\n",
       "      <td>0</td>\n",
       "      <td>0</td>\n",
       "      <td>2</td>\n",
       "      <td>0</td>\n",
       "      <td>0</td>\n",
       "      <td>190.0</td>\n",
       "      <td>1191.000000</td>\n",
       "      <td>1399860</td>\n",
       "      <td>40</td>\n",
       "      <td>2694</td>\n",
       "      <td>0.647736</td>\n",
       "      <td>76780.0</td>\n",
       "      <td>0.000031</td>\n",
       "      <td>150.83</td>\n",
       "      <td>5</td>\n",
       "      <td>6275.0</td>\n",
       "      <td>0</td>\n",
       "      <td>0</td>\n",
       "      <td>0</td>\n",
       "      <td>0</td>\n",
       "      <td>0</td>\n",
       "      <td>0</td>\n",
       "      <td>0</td>\n",
       "      <td>0</td>\n",
       "      <td>0</td>\n",
       "      <td>0</td>\n",
       "      <td>0</td>\n",
       "      <td>0</td>\n",
       "      <td>0</td>\n",
       "      <td>0</td>\n",
       "      <td>0</td>\n",
       "      <td>0</td>\n",
       "      <td>0</td>\n",
       "      <td>0</td>\n",
       "      <td>0</td>\n",
       "      <td>0</td>\n",
       "      <td>1</td>\n",
       "      <td>0</td>\n",
       "      <td>0</td>\n",
       "      <td>0</td>\n",
       "      <td>0</td>\n",
       "      <td>0</td>\n",
       "      <td>0</td>\n",
       "      <td>0</td>\n",
       "      <td>0</td>\n",
       "      <td>0</td>\n",
       "      <td>0</td>\n",
       "      <td>0</td>\n",
       "    </tr>\n",
       "    <tr>\n",
       "      <th>6958</th>\n",
       "      <td>3195.0</td>\n",
       "      <td>2.0</td>\n",
       "      <td>10.0</td>\n",
       "      <td>187323.0</td>\n",
       "      <td>10481785</td>\n",
       "      <td>0.0</td>\n",
       "      <td>0</td>\n",
       "      <td>0</td>\n",
       "      <td>2</td>\n",
       "      <td>1</td>\n",
       "      <td>0</td>\n",
       "      <td>118.0</td>\n",
       "      <td>1392.000000</td>\n",
       "      <td>3769495</td>\n",
       "      <td>8</td>\n",
       "      <td>2705</td>\n",
       "      <td>1.181146</td>\n",
       "      <td>31950.0</td>\n",
       "      <td>0.000003</td>\n",
       "      <td>55.66</td>\n",
       "      <td>2</td>\n",
       "      <td>6372.0</td>\n",
       "      <td>0</td>\n",
       "      <td>0</td>\n",
       "      <td>0</td>\n",
       "      <td>1</td>\n",
       "      <td>0</td>\n",
       "      <td>0</td>\n",
       "      <td>0</td>\n",
       "      <td>0</td>\n",
       "      <td>0</td>\n",
       "      <td>0</td>\n",
       "      <td>0</td>\n",
       "      <td>0</td>\n",
       "      <td>0</td>\n",
       "      <td>0</td>\n",
       "      <td>0</td>\n",
       "      <td>0</td>\n",
       "      <td>0</td>\n",
       "      <td>0</td>\n",
       "      <td>0</td>\n",
       "      <td>0</td>\n",
       "      <td>0</td>\n",
       "      <td>0</td>\n",
       "      <td>0</td>\n",
       "      <td>0</td>\n",
       "      <td>0</td>\n",
       "      <td>0</td>\n",
       "      <td>0</td>\n",
       "      <td>0</td>\n",
       "      <td>0</td>\n",
       "      <td>0</td>\n",
       "      <td>0</td>\n",
       "      <td>0</td>\n",
       "    </tr>\n",
       "  </tbody>\n",
       "</table>\n",
       "</div>"
      ],
      "text/plain": [
       "      ranking  price_range  number_of_rev    url_ta     id_ta  rating  \\\n",
       "5852    819.0          2.0         1200.0  187147.0    714904     0.0   \n",
       "6640   1295.0          2.0           18.0  189852.0   8479516     0.0   \n",
       "5584    534.0          2.0           16.0  190479.0   1746540     0.0   \n",
       "9408   2970.0          2.0          616.0  186338.0   1016032     0.0   \n",
       "6721    801.0          2.0           46.0  186525.0   4026569     0.0   \n",
       "9742   1733.0          2.0           82.0  187323.0  10028106     0.0   \n",
       "2133  12566.0          0.0            0.0  186338.0   5814521     0.0   \n",
       "4478   3006.0          0.0           28.0  190454.0    798196     0.0   \n",
       "2918   1745.0          2.0           44.0  187849.0  12320420     0.0   \n",
       "6958   3195.0          2.0           10.0  187323.0  10481785     0.0   \n",
       "\n",
       "      price_range_is_NAN  cuisine_style_is_NAN  number_of_cuisines  \\\n",
       "5852                   0                     0                   5   \n",
       "6640                   0                     0                   5   \n",
       "5584                   0                     0                   1   \n",
       "9408                   0                     0                   5   \n",
       "6721                   0                     0                   3   \n",
       "9742                   0                     0                   4   \n",
       "2133                   1                     1                   1   \n",
       "4478                   1                     0                   4   \n",
       "2918                   0                     0                   2   \n",
       "6958                   0                     0                   2   \n",
       "\n",
       "      most_common_cuisine  top_unique_cuisine  days_between_reviews  \\\n",
       "5852                    4                   0                   1.0   \n",
       "6640                    1                   0                  86.0   \n",
       "5584                    0                   0                 370.0   \n",
       "9408                    3                   0                  88.0   \n",
       "6721                    1                   0                  14.0   \n",
       "9742                    4                   0                   5.0   \n",
       "2133                    1                   0                  49.0   \n",
       "4478                    0                   0                 711.0   \n",
       "2918                    0                   0                 190.0   \n",
       "6958                    1                   0                 118.0   \n",
       "\n",
       "      days_till_now  population  purchasing_power  rest_city_count  \\\n",
       "5852    1154.000000     2140526                22             6108   \n",
       "6640    1290.000000     2352549                13             1033   \n",
       "5584    1176.000000      681067                17              488   \n",
       "9408    1186.000000     8982458                24             7193   \n",
       "6721    1201.000000      524964                16              745   \n",
       "9742    1171.000000     3769495                 8             2705   \n",
       "2133    1391.871276     8982458                24             7193   \n",
       "4478    1558.000000     1867582                21             1443   \n",
       "2918    1191.000000     1399860                40             2694   \n",
       "6958    1392.000000     3769495                 8             2705   \n",
       "\n",
       "      city_ranking  ranking_rev_count  reviews_per_city_pop  \\\n",
       "5852      0.134086           982800.0              0.000561   \n",
       "6640      1.253630            23310.0              0.000008   \n",
       "5584      1.094262             8544.0              0.000023   \n",
       "9408      0.412901          1829520.0              0.000069   \n",
       "6721      1.075168            36846.0              0.000088   \n",
       "9742      0.640665           142106.0              0.000022   \n",
       "2133      1.746976                0.0              0.000000   \n",
       "4478      2.083160            84168.0              0.000015   \n",
       "2918      0.647736            76780.0              0.000031   \n",
       "6958      1.181146            31950.0              0.000003   \n",
       "\n",
       "      mean_rev_per_city  tourist_attract  rating_max_per_city  city_Amsterdam  \\\n",
       "5852             107.36                1              13986.0               0   \n",
       "6640              68.65                4               2464.0               0   \n",
       "5584              94.84                5               1137.0               0   \n",
       "9408             117.09                1              16444.0               0   \n",
       "6721             203.46                5               1766.0               0   \n",
       "9742              55.66                2               6372.0               0   \n",
       "2133             117.09                1              16444.0               0   \n",
       "4478              67.73                2               3444.0               0   \n",
       "2918             150.83                5               6275.0               0   \n",
       "6958              55.66                2               6372.0               0   \n",
       "\n",
       "      city_Athens  city_Barcelona  city_Berlin  city_Bratislava  \\\n",
       "5852            0               0            0                0   \n",
       "6640            0               0            0                0   \n",
       "5584            0               0            0                0   \n",
       "9408            0               0            0                0   \n",
       "6721            0               0            0                0   \n",
       "9742            0               0            1                0   \n",
       "2133            0               0            0                0   \n",
       "4478            0               0            0                0   \n",
       "2918            0               0            0                0   \n",
       "6958            0               0            1                0   \n",
       "\n",
       "      city_Brussels  city_Budapest  city_Copenhagen  city_Dublin  \\\n",
       "5852              0              0                0            0   \n",
       "6640              0              0                0            0   \n",
       "5584              0              0                0            0   \n",
       "9408              0              0                0            0   \n",
       "6721              0              0                0            0   \n",
       "9742              0              0                0            0   \n",
       "2133              0              0                0            0   \n",
       "4478              0              0                0            0   \n",
       "2918              0              0                0            0   \n",
       "6958              0              0                0            0   \n",
       "\n",
       "      city_Edinburgh  city_Geneva  city_Hamburg  city_Helsinki  city_Krakow  \\\n",
       "5852               0            0             0              0            0   \n",
       "6640               0            0             0              0            0   \n",
       "5584               0            0             0              0            0   \n",
       "9408               0            0             0              0            0   \n",
       "6721               1            0             0              0            0   \n",
       "9742               0            0             0              0            0   \n",
       "2133               0            0             0              0            0   \n",
       "4478               0            0             0              0            0   \n",
       "2918               0            0             0              0            0   \n",
       "6958               0            0             0              0            0   \n",
       "\n",
       "      city_Lisbon  city_Ljubljana  city_London  city_Luxembourg  city_Lyon  \\\n",
       "5852            0               0            0                0          0   \n",
       "6640            0               0            0                0          0   \n",
       "5584            0               0            0                0          0   \n",
       "9408            0               0            1                0          0   \n",
       "6721            0               0            0                0          0   \n",
       "9742            0               0            0                0          0   \n",
       "2133            0               0            1                0          0   \n",
       "4478            0               0            0                0          0   \n",
       "2918            0               0            0                0          0   \n",
       "6958            0               0            0                0          0   \n",
       "\n",
       "      city_Madrid  city_Milan  city_Munich  city_Oporto  city_Oslo  \\\n",
       "5852            0           0            0            0          0   \n",
       "6640            0           0            0            0          0   \n",
       "5584            0           0            0            0          1   \n",
       "9408            0           0            0            0          0   \n",
       "6721            0           0            0            0          0   \n",
       "9742            0           0            0            0          0   \n",
       "2133            0           0            0            0          0   \n",
       "4478            0           0            0            0          0   \n",
       "2918            0           1            0            0          0   \n",
       "6958            0           0            0            0          0   \n",
       "\n",
       "      city_Paris  city_Prague  city_Rome  city_Stockholm  city_Vienna  \\\n",
       "5852           1            0          0               0            0   \n",
       "6640           0            0          0               1            0   \n",
       "5584           0            0          0               0            0   \n",
       "9408           0            0          0               0            0   \n",
       "6721           0            0          0               0            0   \n",
       "9742           0            0          0               0            0   \n",
       "2133           0            0          0               0            0   \n",
       "4478           0            0          0               0            1   \n",
       "2918           0            0          0               0            0   \n",
       "6958           0            0          0               0            0   \n",
       "\n",
       "      city_Warsaw  city_Zurich  city_nan  \n",
       "5852            0            0         0  \n",
       "6640            0            0         0  \n",
       "5584            0            0         0  \n",
       "9408            0            0         0  \n",
       "6721            0            0         0  \n",
       "9742            0            0         0  \n",
       "2133            0            0         0  \n",
       "4478            0            0         0  \n",
       "2918            0            0         0  \n",
       "6958            0            0         0  "
      ]
     },
     "execution_count": 276,
     "metadata": {},
     "output_type": "execute_result"
    }
   ],
   "source": [
    "test_data.sample(10)"
   ]
  },
  {
   "cell_type": "code",
   "execution_count": 277,
   "metadata": {},
   "outputs": [],
   "source": [
    "test_data = test_data.drop(['rating'], axis=1)"
   ]
  },
  {
   "cell_type": "code",
   "execution_count": 278,
   "metadata": {},
   "outputs": [
    {
     "data": {
      "text/html": [
       "<div>\n",
       "<style scoped>\n",
       "    .dataframe tbody tr th:only-of-type {\n",
       "        vertical-align: middle;\n",
       "    }\n",
       "\n",
       "    .dataframe tbody tr th {\n",
       "        vertical-align: top;\n",
       "    }\n",
       "\n",
       "    .dataframe thead th {\n",
       "        text-align: right;\n",
       "    }\n",
       "</style>\n",
       "<table border=\"1\" class=\"dataframe\">\n",
       "  <thead>\n",
       "    <tr style=\"text-align: right;\">\n",
       "      <th></th>\n",
       "      <th>Restaurant_id</th>\n",
       "      <th>Rating</th>\n",
       "    </tr>\n",
       "  </thead>\n",
       "  <tbody>\n",
       "    <tr>\n",
       "      <th>0</th>\n",
       "      <td>id_0</td>\n",
       "      <td>2.0</td>\n",
       "    </tr>\n",
       "    <tr>\n",
       "      <th>1</th>\n",
       "      <td>id_1</td>\n",
       "      <td>2.5</td>\n",
       "    </tr>\n",
       "    <tr>\n",
       "      <th>2</th>\n",
       "      <td>id_2</td>\n",
       "      <td>4.0</td>\n",
       "    </tr>\n",
       "    <tr>\n",
       "      <th>3</th>\n",
       "      <td>id_3</td>\n",
       "      <td>1.0</td>\n",
       "    </tr>\n",
       "    <tr>\n",
       "      <th>4</th>\n",
       "      <td>id_4</td>\n",
       "      <td>4.0</td>\n",
       "    </tr>\n",
       "    <tr>\n",
       "      <th>...</th>\n",
       "      <td>...</td>\n",
       "      <td>...</td>\n",
       "    </tr>\n",
       "    <tr>\n",
       "      <th>9995</th>\n",
       "      <td>id_9995</td>\n",
       "      <td>3.0</td>\n",
       "    </tr>\n",
       "    <tr>\n",
       "      <th>9996</th>\n",
       "      <td>id_9996</td>\n",
       "      <td>1.5</td>\n",
       "    </tr>\n",
       "    <tr>\n",
       "      <th>9997</th>\n",
       "      <td>id_9997</td>\n",
       "      <td>4.5</td>\n",
       "    </tr>\n",
       "    <tr>\n",
       "      <th>9998</th>\n",
       "      <td>id_9998</td>\n",
       "      <td>1.0</td>\n",
       "    </tr>\n",
       "    <tr>\n",
       "      <th>9999</th>\n",
       "      <td>id_9999</td>\n",
       "      <td>2.5</td>\n",
       "    </tr>\n",
       "  </tbody>\n",
       "</table>\n",
       "<p>10000 rows × 2 columns</p>\n",
       "</div>"
      ],
      "text/plain": [
       "     Restaurant_id  Rating\n",
       "0             id_0     2.0\n",
       "1             id_1     2.5\n",
       "2             id_2     4.0\n",
       "3             id_3     1.0\n",
       "4             id_4     4.0\n",
       "...            ...     ...\n",
       "9995       id_9995     3.0\n",
       "9996       id_9996     1.5\n",
       "9997       id_9997     4.5\n",
       "9998       id_9998     1.0\n",
       "9999       id_9999     2.5\n",
       "\n",
       "[10000 rows x 2 columns]"
      ]
     },
     "execution_count": 278,
     "metadata": {},
     "output_type": "execute_result"
    }
   ],
   "source": [
    "sample_submission"
   ]
  },
  {
   "cell_type": "code",
   "execution_count": 279,
   "metadata": {},
   "outputs": [
    {
     "name": "stderr",
     "output_type": "stream",
     "text": [
      "[Parallel(n_jobs=8)]: Using backend ThreadingBackend with 8 concurrent workers.\n",
      "[Parallel(n_jobs=8)]: Done  34 tasks      | elapsed:    0.0s\n",
      "[Parallel(n_jobs=8)]: Done 100 out of 100 | elapsed:    0.0s finished\n"
     ]
    }
   ],
   "source": [
    "predict_submission = model.predict(test_data)"
   ]
  },
  {
   "cell_type": "code",
   "execution_count": 280,
   "metadata": {},
   "outputs": [
    {
     "data": {
      "text/plain": [
       "array([3. , 4. , 4.5, ..., 3. , 4.5, 4.5])"
      ]
     },
     "execution_count": 280,
     "metadata": {},
     "output_type": "execute_result"
    }
   ],
   "source": [
    "predict_submission = np.round(predict_submission * 2)/2\n",
    "\n",
    "predict_submission"
   ]
  },
  {
   "cell_type": "code",
   "execution_count": 281,
   "metadata": {},
   "outputs": [
    {
     "data": {
      "text/html": [
       "<div>\n",
       "<style scoped>\n",
       "    .dataframe tbody tr th:only-of-type {\n",
       "        vertical-align: middle;\n",
       "    }\n",
       "\n",
       "    .dataframe tbody tr th {\n",
       "        vertical-align: top;\n",
       "    }\n",
       "\n",
       "    .dataframe thead th {\n",
       "        text-align: right;\n",
       "    }\n",
       "</style>\n",
       "<table border=\"1\" class=\"dataframe\">\n",
       "  <thead>\n",
       "    <tr style=\"text-align: right;\">\n",
       "      <th></th>\n",
       "      <th>Restaurant_id</th>\n",
       "      <th>Rating</th>\n",
       "    </tr>\n",
       "  </thead>\n",
       "  <tbody>\n",
       "    <tr>\n",
       "      <th>0</th>\n",
       "      <td>id_0</td>\n",
       "      <td>3.0</td>\n",
       "    </tr>\n",
       "    <tr>\n",
       "      <th>1</th>\n",
       "      <td>id_1</td>\n",
       "      <td>4.0</td>\n",
       "    </tr>\n",
       "    <tr>\n",
       "      <th>2</th>\n",
       "      <td>id_2</td>\n",
       "      <td>4.5</td>\n",
       "    </tr>\n",
       "    <tr>\n",
       "      <th>3</th>\n",
       "      <td>id_3</td>\n",
       "      <td>4.5</td>\n",
       "    </tr>\n",
       "    <tr>\n",
       "      <th>4</th>\n",
       "      <td>id_4</td>\n",
       "      <td>4.5</td>\n",
       "    </tr>\n",
       "    <tr>\n",
       "      <th>5</th>\n",
       "      <td>id_5</td>\n",
       "      <td>4.5</td>\n",
       "    </tr>\n",
       "    <tr>\n",
       "      <th>6</th>\n",
       "      <td>id_6</td>\n",
       "      <td>2.5</td>\n",
       "    </tr>\n",
       "    <tr>\n",
       "      <th>7</th>\n",
       "      <td>id_7</td>\n",
       "      <td>2.5</td>\n",
       "    </tr>\n",
       "    <tr>\n",
       "      <th>8</th>\n",
       "      <td>id_8</td>\n",
       "      <td>4.0</td>\n",
       "    </tr>\n",
       "    <tr>\n",
       "      <th>9</th>\n",
       "      <td>id_9</td>\n",
       "      <td>4.5</td>\n",
       "    </tr>\n",
       "  </tbody>\n",
       "</table>\n",
       "</div>"
      ],
      "text/plain": [
       "  Restaurant_id  Rating\n",
       "0          id_0     3.0\n",
       "1          id_1     4.0\n",
       "2          id_2     4.5\n",
       "3          id_3     4.5\n",
       "4          id_4     4.5\n",
       "5          id_5     4.5\n",
       "6          id_6     2.5\n",
       "7          id_7     2.5\n",
       "8          id_8     4.0\n",
       "9          id_9     4.5"
      ]
     },
     "execution_count": 281,
     "metadata": {},
     "output_type": "execute_result"
    }
   ],
   "source": [
    "sample_submission['Rating'] = predict_submission\n",
    "sample_submission.to_csv('submission.csv', index=False)\n",
    "sample_submission.head(10)"
   ]
  },
  {
   "cell_type": "code",
   "execution_count": null,
   "metadata": {},
   "outputs": [],
   "source": []
  }
 ],
 "metadata": {
  "kernelspec": {
   "display_name": "Python 3",
   "language": "python",
   "name": "python3"
  },
  "language_info": {
   "codemirror_mode": {
    "name": "ipython",
    "version": 3
   },
   "file_extension": ".py",
   "mimetype": "text/x-python",
   "name": "python",
   "nbconvert_exporter": "python",
   "pygments_lexer": "ipython3",
   "version": "3.8.3"
  }
 },
 "nbformat": 4,
 "nbformat_minor": 4
}
